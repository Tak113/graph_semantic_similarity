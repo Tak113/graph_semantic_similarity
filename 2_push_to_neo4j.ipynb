{
 "cells": [
  {
   "cell_type": "markdown",
   "id": "7573f9f6",
   "metadata": {},
   "source": [
    "## Initial Setup"
   ]
  },
  {
   "cell_type": "code",
   "execution_count": 1,
   "id": "1ec4e530",
   "metadata": {},
   "outputs": [],
   "source": [
    "# load dependencies\n",
    "\n",
    "import pandas as pd\n",
    "from neo4j import GraphDatabase\n",
    "import time"
   ]
  },
  {
   "cell_type": "code",
   "execution_count": 2,
   "id": "0be71426",
   "metadata": {},
   "outputs": [],
   "source": [
    "# load data\n",
    "\n",
    "df_NODE = pd.read_csv('./data/node.csv')\n",
    "df_RELATION = pd.read_csv('./data/relation.csv')"
   ]
  },
  {
   "cell_type": "code",
   "execution_count": 3,
   "id": "c19d92d4",
   "metadata": {},
   "outputs": [],
   "source": [
    "# neo4j connection\n",
    "\n",
    "# connection class setting\n",
    "class Neo4jConnection:\n",
    "    \n",
    "    def __init__(self, uri, user, pwd):\n",
    "        self.__uri = uri\n",
    "        self.__user = user\n",
    "        self.__pwd = pwd\n",
    "        self.__driver = None\n",
    "        try:\n",
    "            self.__driver = GraphDatabase.driver(self.__uri, auth=(self.__user, self.__pwd))\n",
    "        except Exception as e:\n",
    "            print(\"Failed to create the driver:\", e)\n",
    "    \n",
    "    def close(self):\n",
    "        if self.__driver is not None:\n",
    "            self.__driver.close()\n",
    "        \n",
    "    def query(self, query, parameters=None, db=None):\n",
    "        assert self.__driver is not None, \"Driver not initialized!\"\n",
    "        session = None\n",
    "        response = None\n",
    "        try: \n",
    "            session = self.__driver.session(database=db) if db is not None else self.__driver.session() \n",
    "            response = list(session.run(query, parameters))\n",
    "        except Exception as e:\n",
    "            print(\"Query failed:\", e)\n",
    "        finally: \n",
    "            if session is not None:\n",
    "                session.close()\n",
    "        return response\n",
    "\n",
    "# execute connection\n",
    "con = Neo4jConnection(\"bolt://neo4j:7687\", user=\"neo4j\", pwd=\"1234\")"
   ]
  },
  {
   "cell_type": "markdown",
   "id": "ae34a610",
   "metadata": {},
   "source": [
    "## Database Prep"
   ]
  },
  {
   "cell_type": "code",
   "execution_count": 4,
   "id": "4dab539f",
   "metadata": {},
   "outputs": [
    {
     "data": {
      "text/plain": [
       "[]"
      ]
     },
     "execution_count": 4,
     "metadata": {},
     "output_type": "execute_result"
    }
   ],
   "source": [
    "# Create a database\n",
    "####################################################################################\n",
    "# this would delete some of automated data for a graph application such as `charts`\n",
    "####################################################################################\n",
    "\n",
    "con.query('CREATE OR REPLACE DATABASE mlgit')\n",
    "con.query('START DATABASE mlgit')"
   ]
  },
  {
   "cell_type": "code",
   "execution_count": 5,
   "id": "27a16e23",
   "metadata": {},
   "outputs": [
    {
     "data": {
      "text/plain": [
       "[]"
      ]
     },
     "execution_count": 5,
     "metadata": {},
     "output_type": "execute_result"
    }
   ],
   "source": [
    "# constraint setting\n",
    "\n",
    "con.query(\"CREATE CONSTRAINT repository IF NOT EXISTS ON (r:Repository) ASSERT r.id IS UNIQUE\", db='mlgit')"
   ]
  },
  {
   "cell_type": "markdown",
   "id": "8603eb94",
   "metadata": {},
   "source": [
    "## Create functions for data load"
   ]
  },
  {
   "cell_type": "code",
   "execution_count": 6,
   "id": "350d83b8",
   "metadata": {},
   "outputs": [],
   "source": [
    "# insert data function\n",
    "def insert_data(query, rows, db, batch_size = 1000):\n",
    "    # function to handle the updating the neo4j database in batch mode\n",
    "    \n",
    "    total = 0\n",
    "    batch = 0\n",
    "    start = time.time()\n",
    "    result = None\n",
    "    \n",
    "    while batch * batch_size < len(rows):\n",
    "        \n",
    "        res = con.query(query,\n",
    "                       parameters = {'rows': rows[batch*batch_size:(batch+1)*batch_size].to_dict('records')},\n",
    "                       db = db)\n",
    "        total += res[0]['total']\n",
    "        batch += 1\n",
    "        result = {\"total\":total, \"batches\":batch, \"time\":time.time()-start}\n",
    "        print(result)\n",
    "    \n",
    "    return result"
   ]
  },
  {
   "cell_type": "code",
   "execution_count": 7,
   "id": "25ea2dbd",
   "metadata": {},
   "outputs": [],
   "source": [
    "# add repository node\n",
    "def add_repo(rows, db):\n",
    "    # adds repository nodes to the neo4j graph\n",
    "    query = '''\n",
    "        UNWIND $rows AS row\n",
    "        MERGE (r:Repository {id: row.NodeID, name: row.Repository, owner: row.OwnerName, about: row.About_Topics,\n",
    "        star: row.StarsNorm, fork: row.ForkNorm, watcher: row.WatcherNorm})\n",
    "        RETURN count(*) as total\n",
    "    '''\n",
    "    return insert_data(query, rows, db, batch_size = 1000)\n",
    "\n",
    "# add repository connection\n",
    "def add_connect_similar(rows, db):\n",
    "    # adds connection between repo node to repo node by semantic similarity weight\n",
    "    query = '''\n",
    "        UNWIND $rows AS row\n",
    "        MATCH (repo1:Repository {id: row.Node1_ID})\n",
    "        MATCH (repo2:Repository {id: row.Node2_ID})\n",
    "        MERGE (repo1)-[:SIMILAR {weight: row.Score}]-(repo2)\n",
    "        RETURN count(*) as total\n",
    "    '''\n",
    "    return (insert_data(query, rows, db, batch_size = 1000))"
   ]
  },
  {
   "cell_type": "markdown",
   "id": "23d12bd2",
   "metadata": {},
   "source": [
    "## Upload data to graph database"
   ]
  },
  {
   "cell_type": "code",
   "execution_count": 8,
   "id": "62087b4b",
   "metadata": {},
   "outputs": [
    {
     "name": "stdout",
     "output_type": "stream",
     "text": [
      "{'total': 989, 'batches': 1, 'time': 0.4336049556732178}\n"
     ]
    },
    {
     "data": {
      "text/plain": [
       "{'total': 989, 'batches': 1, 'time': 0.4336049556732178}"
      ]
     },
     "execution_count": 8,
     "metadata": {},
     "output_type": "execute_result"
    }
   ],
   "source": [
    "add_repo(df_NODE, db = 'mlgit')"
   ]
  },
  {
   "cell_type": "code",
   "execution_count": 9,
   "id": "8fb3166c",
   "metadata": {},
   "outputs": [
    {
     "name": "stdout",
     "output_type": "stream",
     "text": [
      "{'total': 1000, 'batches': 1, 'time': 0.2432236671447754}\n",
      "{'total': 1208, 'batches': 2, 'time': 0.27915000915527344}\n"
     ]
    },
    {
     "data": {
      "text/plain": [
       "{'total': 1208, 'batches': 2, 'time': 0.27915000915527344}"
      ]
     },
     "execution_count": 9,
     "metadata": {},
     "output_type": "execute_result"
    }
   ],
   "source": [
    "add_connect_similar(df_RELATION, db = 'mlgit')"
   ]
  },
  {
   "cell_type": "code",
   "execution_count": null,
   "id": "cf83cd1a",
   "metadata": {},
   "outputs": [],
   "source": []
  }
 ],
 "metadata": {
  "kernelspec": {
   "display_name": "Python 3 (ipykernel)",
   "language": "python",
   "name": "python3"
  },
  "language_info": {
   "codemirror_mode": {
    "name": "ipython",
    "version": 3
   },
   "file_extension": ".py",
   "mimetype": "text/x-python",
   "name": "python",
   "nbconvert_exporter": "python",
   "pygments_lexer": "ipython3",
   "version": "3.9.7"
  }
 },
 "nbformat": 4,
 "nbformat_minor": 5
}
