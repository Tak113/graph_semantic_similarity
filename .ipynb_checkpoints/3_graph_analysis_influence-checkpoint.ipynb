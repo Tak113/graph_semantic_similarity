{
 "cells": [
  {
   "cell_type": "markdown",
   "id": "99e2b575",
   "metadata": {
    "slideshow": {
     "slide_type": "slide"
    }
   },
   "source": [
    "## Connection Settings"
   ]
  },
  {
   "cell_type": "code",
   "execution_count": 51,
   "id": "f2573d55",
   "metadata": {
    "slideshow": {
     "slide_type": "subslide"
    }
   },
   "outputs": [],
   "source": [
    "# load dependencies\n",
    "\n",
    "import pandas as pd\n",
    "import numpy as np\n",
    "from neo4j import GraphDatabase\n",
    "import plotly.express as px"
   ]
  },
  {
   "cell_type": "code",
   "execution_count": 2,
   "id": "bfc2f7d6",
   "metadata": {
    "slideshow": {
     "slide_type": "subslide"
    }
   },
   "outputs": [],
   "source": [
    "# connection class setting\n",
    "\n",
    "class Neo4jConnection:\n",
    "    \n",
    "    def __init__(self, uri, user, pwd):\n",
    "        self.__uri = uri\n",
    "        self.__user = user\n",
    "        self.__pwd = pwd\n",
    "        self.__driver = None\n",
    "        try:\n",
    "            self.__driver = GraphDatabase.driver(self.__uri, auth=(self.__user, self.__pwd))\n",
    "        except Exception as e:\n",
    "            print(\"Failed to create the driver:\", e)\n",
    "    \n",
    "    def close(self):\n",
    "        if self.__driver is not None:\n",
    "            self.__driver.close()\n",
    "        \n",
    "    def query(self, query, parameters=None, db=None):\n",
    "        assert self.__driver is not None, \"Driver not initialized!\"\n",
    "        session = None\n",
    "        response = None\n",
    "        try: \n",
    "            session = self.__driver.session(database=db) if db is not None else self.__driver.session() \n",
    "            response = list(session.run(query, parameters))\n",
    "        except Exception as e:\n",
    "            print(\"Query failed:\", e)\n",
    "        finally: \n",
    "            if session is not None:\n",
    "                session.close()\n",
    "        return response\n",
    "\n",
    "# execute connection\n",
    "con = Neo4jConnection(\"bolt://neo4j:7687\", user=\"neo4j\", pwd=\"1234\")"
   ]
  },
  {
   "cell_type": "markdown",
   "id": "04d96647",
   "metadata": {
    "slideshow": {
     "slide_type": "slide"
    }
   },
   "source": [
    "## Unique Owner"
   ]
  },
  {
   "cell_type": "markdown",
   "id": "46f3ddeb",
   "metadata": {
    "slideshow": {
     "slide_type": "subslide"
    }
   },
   "source": [
    "### Number of Count by Owner"
   ]
  },
  {
   "cell_type": "code",
   "execution_count": 77,
   "id": "1f2e57c4",
   "metadata": {
    "slideshow": {
     "slide_type": "fragment"
    },
    "tags": [
     "to_remove"
    ]
   },
   "outputs": [
    {
     "data": {
      "text/html": [
       "<div>\n",
       "<style scoped>\n",
       "    .dataframe tbody tr th:only-of-type {\n",
       "        vertical-align: middle;\n",
       "    }\n",
       "\n",
       "    .dataframe tbody tr th {\n",
       "        vertical-align: top;\n",
       "    }\n",
       "\n",
       "    .dataframe thead th {\n",
       "        text-align: right;\n",
       "    }\n",
       "</style>\n",
       "<table border=\"1\" class=\"dataframe\">\n",
       "  <thead>\n",
       "    <tr style=\"text-align: right;\">\n",
       "      <th></th>\n",
       "      <th>Owner</th>\n",
       "      <th>Count</th>\n",
       "    </tr>\n",
       "  </thead>\n",
       "  <tbody>\n",
       "    <tr>\n",
       "      <th>0</th>\n",
       "      <td>Alphabet</td>\n",
       "      <td>48</td>\n",
       "    </tr>\n",
       "    <tr>\n",
       "      <th>1</th>\n",
       "      <td>Microsoft</td>\n",
       "      <td>43</td>\n",
       "    </tr>\n",
       "    <tr>\n",
       "      <th>2</th>\n",
       "      <td>Facebook</td>\n",
       "      <td>33</td>\n",
       "    </tr>\n",
       "    <tr>\n",
       "      <th>3</th>\n",
       "      <td>FOSSASIA</td>\n",
       "      <td>31</td>\n",
       "    </tr>\n",
       "    <tr>\n",
       "      <th>4</th>\n",
       "      <td>TensorFlow</td>\n",
       "      <td>28</td>\n",
       "    </tr>\n",
       "    <tr>\n",
       "      <th>5</th>\n",
       "      <td>NVIDIA</td>\n",
       "      <td>19</td>\n",
       "    </tr>\n",
       "    <tr>\n",
       "      <th>6</th>\n",
       "      <td>Intel</td>\n",
       "      <td>18</td>\n",
       "    </tr>\n",
       "    <tr>\n",
       "      <th>7</th>\n",
       "      <td>Amazon</td>\n",
       "      <td>13</td>\n",
       "    </tr>\n",
       "    <tr>\n",
       "      <th>8</th>\n",
       "      <td>Tencent</td>\n",
       "      <td>11</td>\n",
       "    </tr>\n",
       "    <tr>\n",
       "      <th>9</th>\n",
       "      <td>aio-libs</td>\n",
       "      <td>9</td>\n",
       "    </tr>\n",
       "    <tr>\n",
       "      <th>10</th>\n",
       "      <td>PaddlePaddle</td>\n",
       "      <td>8</td>\n",
       "    </tr>\n",
       "    <tr>\n",
       "      <th>11</th>\n",
       "      <td>Apache China</td>\n",
       "      <td>8</td>\n",
       "    </tr>\n",
       "    <tr>\n",
       "      <th>12</th>\n",
       "      <td>IBM</td>\n",
       "      <td>8</td>\n",
       "    </tr>\n",
       "    <tr>\n",
       "      <th>13</th>\n",
       "      <td>Hugging Face</td>\n",
       "      <td>8</td>\n",
       "    </tr>\n",
       "    <tr>\n",
       "      <th>14</th>\n",
       "      <td>Distributed Machine Learning Community</td>\n",
       "      <td>7</td>\n",
       "    </tr>\n",
       "    <tr>\n",
       "      <th>15</th>\n",
       "      <td>Massachusetts Institute of Technology</td>\n",
       "      <td>7</td>\n",
       "    </tr>\n",
       "    <tr>\n",
       "      <th>16</th>\n",
       "      <td>fast.ai</td>\n",
       "      <td>7</td>\n",
       "    </tr>\n",
       "    <tr>\n",
       "      <th>17</th>\n",
       "      <td>Alibaba</td>\n",
       "      <td>7</td>\n",
       "    </tr>\n",
       "    <tr>\n",
       "      <th>18</th>\n",
       "      <td>Uber</td>\n",
       "      <td>7</td>\n",
       "    </tr>\n",
       "    <tr>\n",
       "      <th>19</th>\n",
       "      <td>OpenAI</td>\n",
       "      <td>6</td>\n",
       "    </tr>\n",
       "  </tbody>\n",
       "</table>\n",
       "</div>"
      ],
      "text/plain": [
       "                                     Owner  Count\n",
       "0                                 Alphabet     48\n",
       "1                                Microsoft     43\n",
       "2                                 Facebook     33\n",
       "3                                 FOSSASIA     31\n",
       "4                               TensorFlow     28\n",
       "5                                   NVIDIA     19\n",
       "6                                    Intel     18\n",
       "7                                   Amazon     13\n",
       "8                                  Tencent     11\n",
       "9                                 aio-libs      9\n",
       "10                            PaddlePaddle      8\n",
       "11                            Apache China      8\n",
       "12                                     IBM      8\n",
       "13                            Hugging Face      8\n",
       "14  Distributed Machine Learning Community      7\n",
       "15   Massachusetts Institute of Technology      7\n",
       "16                                 fast.ai      7\n",
       "17                                 Alibaba      7\n",
       "18                                    Uber      7\n",
       "19                                  OpenAI      6"
      ]
     },
     "execution_count": 77,
     "metadata": {},
     "output_type": "execute_result"
    }
   ],
   "source": [
    "query_unique_owner = '''\n",
    "    MATCH (r:Repository)\n",
    "    RETURN DISTINCT r.owner, count(r)\n",
    "    ORDER BY count(r) DESC\n",
    "'''\n",
    "\n",
    "q_unique_owner = con.query(query_unique_owner, db = 'mlgit')\n",
    "df_unique_owner = pd.DataFrame([dict(_) for _ in q_unique_owner]).rename(columns = {'r.owner':'Owner','count(r)':'Count'})\n",
    "df_unique_owner.head(20)"
   ]
  },
  {
   "cell_type": "code",
   "execution_count": 78,
   "id": "c9267a96",
   "metadata": {
    "slideshow": {
     "slide_type": "subslide"
    }
   },
   "outputs": [
    {
     "name": "stdout",
     "output_type": "stream",
     "text": [
      "N of unique owner :  536\n"
     ]
    }
   ],
   "source": [
    "print('N of unique owner : ', len(df_unique_owner))"
   ]
  },
  {
   "cell_type": "markdown",
   "id": "8842b176",
   "metadata": {
    "slideshow": {
     "slide_type": "slide"
    }
   },
   "source": [
    "## InDegree\n",
    "list of most connected repos"
   ]
  },
  {
   "cell_type": "code",
   "execution_count": 5,
   "id": "6d25f441",
   "metadata": {
    "slideshow": {
     "slide_type": "subslide"
    }
   },
   "outputs": [
    {
     "data": {
      "text/html": [
       "<div>\n",
       "<style scoped>\n",
       "    .dataframe tbody tr th:only-of-type {\n",
       "        vertical-align: middle;\n",
       "    }\n",
       "\n",
       "    .dataframe tbody tr th {\n",
       "        vertical-align: top;\n",
       "    }\n",
       "\n",
       "    .dataframe thead th {\n",
       "        text-align: right;\n",
       "    }\n",
       "</style>\n",
       "<table border=\"1\" class=\"dataframe\">\n",
       "  <thead>\n",
       "    <tr style=\"text-align: right;\">\n",
       "      <th></th>\n",
       "      <th>NodeID</th>\n",
       "      <th>Owner</th>\n",
       "      <th>RepoName</th>\n",
       "      <th>InDegree</th>\n",
       "    </tr>\n",
       "  </thead>\n",
       "  <tbody>\n",
       "    <tr>\n",
       "      <th>0</th>\n",
       "      <td>1366</td>\n",
       "      <td>Sony</td>\n",
       "      <td>nnabla</td>\n",
       "      <td>37</td>\n",
       "    </tr>\n",
       "    <tr>\n",
       "      <th>1</th>\n",
       "      <td>2189</td>\n",
       "      <td>Dive into Deep Learning</td>\n",
       "      <td>d2l-zh</td>\n",
       "      <td>23</td>\n",
       "    </tr>\n",
       "    <tr>\n",
       "      <th>2</th>\n",
       "      <td>1669</td>\n",
       "      <td>FOSSASIA</td>\n",
       "      <td>susi.ai</td>\n",
       "      <td>22</td>\n",
       "    </tr>\n",
       "    <tr>\n",
       "      <th>3</th>\n",
       "      <td>2193</td>\n",
       "      <td>Datawhale</td>\n",
       "      <td>key-book</td>\n",
       "      <td>22</td>\n",
       "    </tr>\n",
       "    <tr>\n",
       "      <th>4</th>\n",
       "      <td>2200</td>\n",
       "      <td>O'Reilly Japan</td>\n",
       "      <td>deep-learning-from-scratch</td>\n",
       "      <td>22</td>\n",
       "    </tr>\n",
       "    <tr>\n",
       "      <th>5</th>\n",
       "      <td>1811</td>\n",
       "      <td>Microsoft</td>\n",
       "      <td>tf-gnn-samples</td>\n",
       "      <td>21</td>\n",
       "    </tr>\n",
       "    <tr>\n",
       "      <th>6</th>\n",
       "      <td>570</td>\n",
       "      <td>Apache China</td>\n",
       "      <td>home</td>\n",
       "      <td>19</td>\n",
       "    </tr>\n",
       "    <tr>\n",
       "      <th>7</th>\n",
       "      <td>1656</td>\n",
       "      <td>FOSSASIA</td>\n",
       "      <td>susi_api_wrapper</td>\n",
       "      <td>19</td>\n",
       "    </tr>\n",
       "    <tr>\n",
       "      <th>8</th>\n",
       "      <td>1659</td>\n",
       "      <td>FOSSASIA</td>\n",
       "      <td>susi_iOS</td>\n",
       "      <td>19</td>\n",
       "    </tr>\n",
       "    <tr>\n",
       "      <th>9</th>\n",
       "      <td>1667</td>\n",
       "      <td>FOSSASIA</td>\n",
       "      <td>susi_smart_box</td>\n",
       "      <td>19</td>\n",
       "    </tr>\n",
       "    <tr>\n",
       "      <th>10</th>\n",
       "      <td>1772</td>\n",
       "      <td>FOSSASIA</td>\n",
       "      <td>susi_fbbot</td>\n",
       "      <td>19</td>\n",
       "    </tr>\n",
       "    <tr>\n",
       "      <th>11</th>\n",
       "      <td>2214</td>\n",
       "      <td>girls-in-ai</td>\n",
       "      <td>Girls-In-AI</td>\n",
       "      <td>19</td>\n",
       "    </tr>\n",
       "    <tr>\n",
       "      <th>12</th>\n",
       "      <td>1664</td>\n",
       "      <td>FOSSASIA</td>\n",
       "      <td>susi_firefoxbot</td>\n",
       "      <td>18</td>\n",
       "    </tr>\n",
       "    <tr>\n",
       "      <th>13</th>\n",
       "      <td>1774</td>\n",
       "      <td>FOSSASIA</td>\n",
       "      <td>susi_telegrambot</td>\n",
       "      <td>18</td>\n",
       "    </tr>\n",
       "    <tr>\n",
       "      <th>14</th>\n",
       "      <td>674</td>\n",
       "      <td>inherd</td>\n",
       "      <td>coca</td>\n",
       "      <td>17</td>\n",
       "    </tr>\n",
       "    <tr>\n",
       "      <th>15</th>\n",
       "      <td>782</td>\n",
       "      <td>PaddlePaddle</td>\n",
       "      <td>book</td>\n",
       "      <td>17</td>\n",
       "    </tr>\n",
       "    <tr>\n",
       "      <th>16</th>\n",
       "      <td>1771</td>\n",
       "      <td>FOSSASIA</td>\n",
       "      <td>susi_artwork</td>\n",
       "      <td>17</td>\n",
       "    </tr>\n",
       "    <tr>\n",
       "      <th>17</th>\n",
       "      <td>1773</td>\n",
       "      <td>FOSSASIA</td>\n",
       "      <td>susi_kikbot</td>\n",
       "      <td>17</td>\n",
       "    </tr>\n",
       "    <tr>\n",
       "      <th>18</th>\n",
       "      <td>1775</td>\n",
       "      <td>FOSSASIA</td>\n",
       "      <td>susi_wechatbot</td>\n",
       "      <td>17</td>\n",
       "    </tr>\n",
       "    <tr>\n",
       "      <th>19</th>\n",
       "      <td>1999</td>\n",
       "      <td>FOSSASIA</td>\n",
       "      <td>susi_tweetbot</td>\n",
       "      <td>17</td>\n",
       "    </tr>\n",
       "  </tbody>\n",
       "</table>\n",
       "</div>"
      ],
      "text/plain": [
       "    NodeID                    Owner                    RepoName  InDegree\n",
       "0     1366                     Sony                      nnabla        37\n",
       "1     2189  Dive into Deep Learning                      d2l-zh        23\n",
       "2     1669                 FOSSASIA                     susi.ai        22\n",
       "3     2193                Datawhale                    key-book        22\n",
       "4     2200           O'Reilly Japan  deep-learning-from-scratch        22\n",
       "5     1811                Microsoft              tf-gnn-samples        21\n",
       "6      570             Apache China                        home        19\n",
       "7     1656                 FOSSASIA            susi_api_wrapper        19\n",
       "8     1659                 FOSSASIA                    susi_iOS        19\n",
       "9     1667                 FOSSASIA              susi_smart_box        19\n",
       "10    1772                 FOSSASIA                  susi_fbbot        19\n",
       "11    2214              girls-in-ai                 Girls-In-AI        19\n",
       "12    1664                 FOSSASIA             susi_firefoxbot        18\n",
       "13    1774                 FOSSASIA            susi_telegrambot        18\n",
       "14     674                   inherd                        coca        17\n",
       "15     782             PaddlePaddle                        book        17\n",
       "16    1771                 FOSSASIA                susi_artwork        17\n",
       "17    1773                 FOSSASIA                 susi_kikbot        17\n",
       "18    1775                 FOSSASIA              susi_wechatbot        17\n",
       "19    1999                 FOSSASIA               susi_tweetbot        17"
      ]
     },
     "execution_count": 5,
     "metadata": {},
     "output_type": "execute_result"
    }
   ],
   "source": [
    "query_repo_indegree = '''\n",
    "    MATCH ()-[:SIMILAR]-(r:Repository)\n",
    "    RETURN r.id, r.owner, r.name, count(*) as InDegree\n",
    "    ORDER BY InDegree DESC\n",
    "'''\n",
    "\n",
    "q_repo_indegree = con.query(query_repo_indegree, db = 'mlgit')\n",
    "df_repo_indegree = (pd\n",
    "                    .DataFrame([dict(_) for _ in q_repo_indegree])\n",
    "                    .rename(columns = {'r.id':'NodeID',\n",
    "                                      'r.owner':'Owner',\n",
    "                                      'r.name':'RepoName'}))\n",
    "\n",
    "# InDegree by repo\n",
    "df_repo_indegree.head(20)"
   ]
  },
  {
   "cell_type": "code",
   "execution_count": 6,
   "id": "9e2846f0",
   "metadata": {},
   "outputs": [
    {
     "data": {
      "text/plain": [
       "(665, 4)"
      ]
     },
     "execution_count": 6,
     "metadata": {},
     "output_type": "execute_result"
    }
   ],
   "source": [
    "df_repo_indegree.shape"
   ]
  },
  {
   "cell_type": "code",
   "execution_count": 7,
   "id": "a42d76ca",
   "metadata": {
    "slideshow": {
     "slide_type": "subslide"
    }
   },
   "outputs": [
    {
     "data": {
      "text/html": [
       "<div>\n",
       "<style scoped>\n",
       "    .dataframe tbody tr th:only-of-type {\n",
       "        vertical-align: middle;\n",
       "    }\n",
       "\n",
       "    .dataframe tbody tr th {\n",
       "        vertical-align: top;\n",
       "    }\n",
       "\n",
       "    .dataframe thead th {\n",
       "        text-align: right;\n",
       "    }\n",
       "</style>\n",
       "<table border=\"1\" class=\"dataframe\">\n",
       "  <thead>\n",
       "    <tr style=\"text-align: right;\">\n",
       "      <th></th>\n",
       "      <th>Owner</th>\n",
       "      <th>InDegree</th>\n",
       "    </tr>\n",
       "  </thead>\n",
       "  <tbody>\n",
       "    <tr>\n",
       "      <th>88</th>\n",
       "      <td>FOSSASIA</td>\n",
       "      <td>349</td>\n",
       "    </tr>\n",
       "    <tr>\n",
       "      <th>160</th>\n",
       "      <td>Microsoft</td>\n",
       "      <td>111</td>\n",
       "    </tr>\n",
       "    <tr>\n",
       "      <th>17</th>\n",
       "      <td>Alphabet</td>\n",
       "      <td>98</td>\n",
       "    </tr>\n",
       "    <tr>\n",
       "      <th>89</th>\n",
       "      <td>Facebook</td>\n",
       "      <td>76</td>\n",
       "    </tr>\n",
       "    <tr>\n",
       "      <th>201</th>\n",
       "      <td>PaddlePaddle</td>\n",
       "      <td>74</td>\n",
       "    </tr>\n",
       "    <tr>\n",
       "      <th>253</th>\n",
       "      <td>TensorFlow</td>\n",
       "      <td>74</td>\n",
       "    </tr>\n",
       "    <tr>\n",
       "      <th>68</th>\n",
       "      <td>Datawhale</td>\n",
       "      <td>55</td>\n",
       "    </tr>\n",
       "    <tr>\n",
       "      <th>19</th>\n",
       "      <td>Amazon</td>\n",
       "      <td>46</td>\n",
       "    </tr>\n",
       "    <tr>\n",
       "      <th>22</th>\n",
       "      <td>Apache China</td>\n",
       "      <td>40</td>\n",
       "    </tr>\n",
       "    <tr>\n",
       "      <th>240</th>\n",
       "      <td>Sony</td>\n",
       "      <td>37</td>\n",
       "    </tr>\n",
       "    <tr>\n",
       "      <th>171</th>\n",
       "      <td>NVIDIA</td>\n",
       "      <td>36</td>\n",
       "    </tr>\n",
       "    <tr>\n",
       "      <th>290</th>\n",
       "      <td>aio-libs</td>\n",
       "      <td>31</td>\n",
       "    </tr>\n",
       "    <tr>\n",
       "      <th>129</th>\n",
       "      <td>Keras (MIT)</td>\n",
       "      <td>28</td>\n",
       "    </tr>\n",
       "    <tr>\n",
       "      <th>78</th>\n",
       "      <td>Dive into Deep Learning</td>\n",
       "      <td>28</td>\n",
       "    </tr>\n",
       "    <tr>\n",
       "      <th>120</th>\n",
       "      <td>Intel</td>\n",
       "      <td>26</td>\n",
       "    </tr>\n",
       "    <tr>\n",
       "      <th>187</th>\n",
       "      <td>Open Neural Network Exchange</td>\n",
       "      <td>25</td>\n",
       "    </tr>\n",
       "    <tr>\n",
       "      <th>184</th>\n",
       "      <td>O'Reilly Japan</td>\n",
       "      <td>22</td>\n",
       "    </tr>\n",
       "    <tr>\n",
       "      <th>252</th>\n",
       "      <td>Tencent</td>\n",
       "      <td>21</td>\n",
       "    </tr>\n",
       "    <tr>\n",
       "      <th>306</th>\n",
       "      <td>fast.ai</td>\n",
       "      <td>20</td>\n",
       "    </tr>\n",
       "    <tr>\n",
       "      <th>242</th>\n",
       "      <td>Stanford University</td>\n",
       "      <td>19</td>\n",
       "    </tr>\n",
       "  </tbody>\n",
       "</table>\n",
       "</div>"
      ],
      "text/plain": [
       "                            Owner  InDegree\n",
       "88                       FOSSASIA       349\n",
       "160                     Microsoft       111\n",
       "17                       Alphabet        98\n",
       "89                       Facebook        76\n",
       "201                  PaddlePaddle        74\n",
       "253                    TensorFlow        74\n",
       "68                      Datawhale        55\n",
       "19                         Amazon        46\n",
       "22                   Apache China        40\n",
       "240                          Sony        37\n",
       "171                        NVIDIA        36\n",
       "290                      aio-libs        31\n",
       "129                   Keras (MIT)        28\n",
       "78        Dive into Deep Learning        28\n",
       "120                         Intel        26\n",
       "187  Open Neural Network Exchange        25\n",
       "184                O'Reilly Japan        22\n",
       "252                       Tencent        21\n",
       "306                       fast.ai        20\n",
       "242           Stanford University        19"
      ]
     },
     "execution_count": 7,
     "metadata": {},
     "output_type": "execute_result"
    }
   ],
   "source": [
    "# InDegree by owner\n",
    "\n",
    "df_owner_indegree = (df_repo_indegree\n",
    "                        .groupby(['Owner'])['InDegree']\n",
    "                        .sum()\n",
    "                        .reset_index()\n",
    "                        .sort_values(by='InDegree', ascending = False)\n",
    "                        .head(20))\n",
    "df_owner_indegree"
   ]
  },
  {
   "cell_type": "markdown",
   "id": "7e306eb2",
   "metadata": {
    "slideshow": {
     "slide_type": "slide"
    }
   },
   "source": [
    "## Centrality : PageRank"
   ]
  },
  {
   "cell_type": "code",
   "execution_count": 8,
   "id": "ff914f82",
   "metadata": {
    "slideshow": {
     "slide_type": "subslide"
    }
   },
   "outputs": [
    {
     "data": {
      "text/plain": [
       "[<Record nodeProjection={'Repository': {'properties': {}, 'label': 'Repository'}} relationshipProjection={'SIMILAR': {'orientation': 'NATURAL', 'aggregation': 'DEFAULT', 'type': 'SIMILAR', 'properties': {'weight': {'property': 'weight', 'aggregation': 'DEFAULT', 'defaultValue': None}}}} graphName='mlgitGraph' nodeCount=989 relationshipCount=1208 createMillis=46>]"
      ]
     },
     "execution_count": 8,
     "metadata": {},
     "output_type": "execute_result"
    }
   ],
   "source": [
    "# gds graph name prep for node centrality\n",
    "query_gds_graph = '''\n",
    "    CALL gds.graph.create(\n",
    "        'mlgitGraph',\n",
    "        'Repository',\n",
    "        'SIMILAR',\n",
    "        {\n",
    "            relationshipProperties: 'weight'\n",
    "        }\n",
    "    )\n",
    "'''\n",
    "\n",
    "con.query(query_gds_graph, db = 'mlgit')"
   ]
  },
  {
   "cell_type": "code",
   "execution_count": 9,
   "id": "55003b77",
   "metadata": {
    "slideshow": {
     "slide_type": "subslide"
    }
   },
   "outputs": [
    {
     "data": {
      "text/plain": [
       "[<Record nodePropertiesWritten=989 ranIterations=15>]"
      ]
     },
     "execution_count": 9,
     "metadata": {},
     "output_type": "execute_result"
    }
   ],
   "source": [
    "# gds centrality (pagerank) of similarity write\n",
    "query_pagerank_write = '''\n",
    "    CALL gds.pageRank.write('mlgitGraph',{\n",
    "        writeProperty: 'pagerank'\n",
    "    })\n",
    "    YIELD nodePropertiesWritten, ranIterations\n",
    "'''\n",
    "\n",
    "con.query(query_pagerank_write, db = 'mlgit')"
   ]
  },
  {
   "cell_type": "code",
   "execution_count": 10,
   "id": "3778ff7e",
   "metadata": {
    "slideshow": {
     "slide_type": "subslide"
    }
   },
   "outputs": [
    {
     "data": {
      "text/html": [
       "<div>\n",
       "<style scoped>\n",
       "    .dataframe tbody tr th:only-of-type {\n",
       "        vertical-align: middle;\n",
       "    }\n",
       "\n",
       "    .dataframe tbody tr th {\n",
       "        vertical-align: top;\n",
       "    }\n",
       "\n",
       "    .dataframe thead th {\n",
       "        text-align: right;\n",
       "    }\n",
       "</style>\n",
       "<table border=\"1\" class=\"dataframe\">\n",
       "  <thead>\n",
       "    <tr style=\"text-align: right;\">\n",
       "      <th></th>\n",
       "      <th>NodeID</th>\n",
       "      <th>Owner</th>\n",
       "      <th>RepoName</th>\n",
       "      <th>PageRank</th>\n",
       "    </tr>\n",
       "  </thead>\n",
       "  <tbody>\n",
       "    <tr>\n",
       "      <th>0</th>\n",
       "      <td>1811</td>\n",
       "      <td>Microsoft</td>\n",
       "      <td>tf-gnn-samples</td>\n",
       "      <td>2.853313</td>\n",
       "    </tr>\n",
       "    <tr>\n",
       "      <th>1</th>\n",
       "      <td>1366</td>\n",
       "      <td>Sony</td>\n",
       "      <td>nnabla</td>\n",
       "      <td>2.690252</td>\n",
       "    </tr>\n",
       "    <tr>\n",
       "      <th>2</th>\n",
       "      <td>2037</td>\n",
       "      <td>FOSSASIA</td>\n",
       "      <td>susi_viberbot</td>\n",
       "      <td>2.620624</td>\n",
       "    </tr>\n",
       "    <tr>\n",
       "      <th>3</th>\n",
       "      <td>1819</td>\n",
       "      <td>Alphabet</td>\n",
       "      <td>sonnet</td>\n",
       "      <td>1.771548</td>\n",
       "    </tr>\n",
       "    <tr>\n",
       "      <th>4</th>\n",
       "      <td>1831</td>\n",
       "      <td>hasktorch</td>\n",
       "      <td>hasktorch</td>\n",
       "      <td>1.477750</td>\n",
       "    </tr>\n",
       "    <tr>\n",
       "      <th>5</th>\n",
       "      <td>2337</td>\n",
       "      <td>Machine Learning Tooling</td>\n",
       "      <td>ml-workspace</td>\n",
       "      <td>1.461412</td>\n",
       "    </tr>\n",
       "    <tr>\n",
       "      <th>6</th>\n",
       "      <td>1999</td>\n",
       "      <td>FOSSASIA</td>\n",
       "      <td>susi_tweetbot</td>\n",
       "      <td>1.403122</td>\n",
       "    </tr>\n",
       "    <tr>\n",
       "      <th>7</th>\n",
       "      <td>2164</td>\n",
       "      <td>scikit-learn</td>\n",
       "      <td>scikit-learn</td>\n",
       "      <td>1.392838</td>\n",
       "    </tr>\n",
       "    <tr>\n",
       "      <th>8</th>\n",
       "      <td>2036</td>\n",
       "      <td>Replicate.ai</td>\n",
       "      <td>keepsake</td>\n",
       "      <td>1.377348</td>\n",
       "    </tr>\n",
       "    <tr>\n",
       "      <th>9</th>\n",
       "      <td>1884</td>\n",
       "      <td>fast.ai</td>\n",
       "      <td>fastai</td>\n",
       "      <td>1.349693</td>\n",
       "    </tr>\n",
       "    <tr>\n",
       "      <th>10</th>\n",
       "      <td>1883</td>\n",
       "      <td>fast.ai</td>\n",
       "      <td>fastbook</td>\n",
       "      <td>1.336404</td>\n",
       "    </tr>\n",
       "    <tr>\n",
       "      <th>11</th>\n",
       "      <td>1826</td>\n",
       "      <td>Devisters</td>\n",
       "      <td>DQN-tensorflow</td>\n",
       "      <td>1.143939</td>\n",
       "    </tr>\n",
       "    <tr>\n",
       "      <th>12</th>\n",
       "      <td>2096</td>\n",
       "      <td>Apache</td>\n",
       "      <td>singa</td>\n",
       "      <td>1.140668</td>\n",
       "    </tr>\n",
       "    <tr>\n",
       "      <th>13</th>\n",
       "      <td>1425</td>\n",
       "      <td>kornia</td>\n",
       "      <td>kornia</td>\n",
       "      <td>1.084474</td>\n",
       "    </tr>\n",
       "    <tr>\n",
       "      <th>14</th>\n",
       "      <td>1953</td>\n",
       "      <td>Microsoft</td>\n",
       "      <td>forecasting</td>\n",
       "      <td>1.051658</td>\n",
       "    </tr>\n",
       "    <tr>\n",
       "      <th>15</th>\n",
       "      <td>2214</td>\n",
       "      <td>girls-in-ai</td>\n",
       "      <td>Girls-In-AI</td>\n",
       "      <td>1.015237</td>\n",
       "    </tr>\n",
       "    <tr>\n",
       "      <th>16</th>\n",
       "      <td>1775</td>\n",
       "      <td>FOSSASIA</td>\n",
       "      <td>susi_wechatbot</td>\n",
       "      <td>0.984647</td>\n",
       "    </tr>\n",
       "    <tr>\n",
       "      <th>17</th>\n",
       "      <td>1565</td>\n",
       "      <td>Microsoft</td>\n",
       "      <td>MachineLearningNotebooks</td>\n",
       "      <td>0.984167</td>\n",
       "    </tr>\n",
       "    <tr>\n",
       "      <th>18</th>\n",
       "      <td>2235</td>\n",
       "      <td>Datawhale</td>\n",
       "      <td>competition-baseline</td>\n",
       "      <td>0.945411</td>\n",
       "    </tr>\n",
       "    <tr>\n",
       "      <th>19</th>\n",
       "      <td>2251</td>\n",
       "      <td>Datawhale</td>\n",
       "      <td>leeml-notes</td>\n",
       "      <td>0.945411</td>\n",
       "    </tr>\n",
       "  </tbody>\n",
       "</table>\n",
       "</div>"
      ],
      "text/plain": [
       "    NodeID                     Owner                  RepoName  PageRank\n",
       "0     1811                 Microsoft            tf-gnn-samples  2.853313\n",
       "1     1366                      Sony                    nnabla  2.690252\n",
       "2     2037                  FOSSASIA             susi_viberbot  2.620624\n",
       "3     1819                  Alphabet                    sonnet  1.771548\n",
       "4     1831                 hasktorch                 hasktorch  1.477750\n",
       "5     2337  Machine Learning Tooling              ml-workspace  1.461412\n",
       "6     1999                  FOSSASIA             susi_tweetbot  1.403122\n",
       "7     2164              scikit-learn              scikit-learn  1.392838\n",
       "8     2036              Replicate.ai                  keepsake  1.377348\n",
       "9     1884                   fast.ai                    fastai  1.349693\n",
       "10    1883                   fast.ai                  fastbook  1.336404\n",
       "11    1826                 Devisters            DQN-tensorflow  1.143939\n",
       "12    2096                    Apache                     singa  1.140668\n",
       "13    1425                    kornia                    kornia  1.084474\n",
       "14    1953                 Microsoft               forecasting  1.051658\n",
       "15    2214               girls-in-ai               Girls-In-AI  1.015237\n",
       "16    1775                  FOSSASIA            susi_wechatbot  0.984647\n",
       "17    1565                 Microsoft  MachineLearningNotebooks  0.984167\n",
       "18    2235                 Datawhale      competition-baseline  0.945411\n",
       "19    2251                 Datawhale               leeml-notes  0.945411"
      ]
     },
     "execution_count": 10,
     "metadata": {},
     "output_type": "execute_result"
    }
   ],
   "source": [
    "# pull pagerank centrality result\n",
    "query_pagerank_pull = '''\n",
    "    MATCH (r:Repository)\n",
    "    RETURN DISTINCT r.id, r.owner, r.name, r.pagerank\n",
    "    ORDER BY r.pagerank DESC\n",
    "'''\n",
    "\n",
    "df_repo_pagerank = (pd\n",
    "                    .DataFrame([dict(_) for _ in con.query(query_pagerank_pull, db = 'mlgit')])\n",
    "                    .rename(columns = {'r.id':'NodeID',\n",
    "                                      'r.owner':'Owner',\n",
    "                                      'r.name':'RepoName',\n",
    "                                      'r.pagerank':'PageRank'}))\n",
    "\n",
    "# pagerank by repo\n",
    "df_repo_pagerank.head(20)"
   ]
  },
  {
   "cell_type": "code",
   "execution_count": 11,
   "id": "fd38bf1d",
   "metadata": {
    "slideshow": {
     "slide_type": "subslide"
    }
   },
   "outputs": [
    {
     "data": {
      "text/html": [
       "<div>\n",
       "<style scoped>\n",
       "    .dataframe tbody tr th:only-of-type {\n",
       "        vertical-align: middle;\n",
       "    }\n",
       "\n",
       "    .dataframe tbody tr th {\n",
       "        vertical-align: top;\n",
       "    }\n",
       "\n",
       "    .dataframe thead th {\n",
       "        text-align: right;\n",
       "    }\n",
       "</style>\n",
       "<table border=\"1\" class=\"dataframe\">\n",
       "  <thead>\n",
       "    <tr style=\"text-align: right;\">\n",
       "      <th></th>\n",
       "      <th>Owner</th>\n",
       "      <th>PageRank</th>\n",
       "    </tr>\n",
       "  </thead>\n",
       "  <tbody>\n",
       "    <tr>\n",
       "      <th>244</th>\n",
       "      <td>Microsoft</td>\n",
       "      <td>15.659560</td>\n",
       "    </tr>\n",
       "    <tr>\n",
       "      <th>131</th>\n",
       "      <td>FOSSASIA</td>\n",
       "      <td>14.150417</td>\n",
       "    </tr>\n",
       "    <tr>\n",
       "      <th>31</th>\n",
       "      <td>Alphabet</td>\n",
       "      <td>11.184247</td>\n",
       "    </tr>\n",
       "    <tr>\n",
       "      <th>132</th>\n",
       "      <td>Facebook</td>\n",
       "      <td>8.080870</td>\n",
       "    </tr>\n",
       "    <tr>\n",
       "      <th>377</th>\n",
       "      <td>TensorFlow</td>\n",
       "      <td>7.264442</td>\n",
       "    </tr>\n",
       "    <tr>\n",
       "      <th>458</th>\n",
       "      <td>fast.ai</td>\n",
       "      <td>4.758368</td>\n",
       "    </tr>\n",
       "    <tr>\n",
       "      <th>260</th>\n",
       "      <td>NVIDIA</td>\n",
       "      <td>4.599322</td>\n",
       "    </tr>\n",
       "    <tr>\n",
       "      <th>183</th>\n",
       "      <td>Intel</td>\n",
       "      <td>3.614522</td>\n",
       "    </tr>\n",
       "    <tr>\n",
       "      <th>33</th>\n",
       "      <td>Amazon</td>\n",
       "      <td>3.547098</td>\n",
       "    </tr>\n",
       "    <tr>\n",
       "      <th>96</th>\n",
       "      <td>Datawhale</td>\n",
       "      <td>2.723142</td>\n",
       "    </tr>\n",
       "    <tr>\n",
       "      <th>361</th>\n",
       "      <td>Sony</td>\n",
       "      <td>2.690252</td>\n",
       "    </tr>\n",
       "    <tr>\n",
       "      <th>431</th>\n",
       "      <td>aio-libs</td>\n",
       "      <td>2.649202</td>\n",
       "    </tr>\n",
       "    <tr>\n",
       "      <th>376</th>\n",
       "      <td>Tencent</td>\n",
       "      <td>2.213923</td>\n",
       "    </tr>\n",
       "    <tr>\n",
       "      <th>35</th>\n",
       "      <td>Apache</td>\n",
       "      <td>2.153145</td>\n",
       "    </tr>\n",
       "    <tr>\n",
       "      <th>130</th>\n",
       "      <td>Explosion.ai</td>\n",
       "      <td>1.950663</td>\n",
       "    </tr>\n",
       "    <tr>\n",
       "      <th>113</th>\n",
       "      <td>Distributed Machine Learning Community</td>\n",
       "      <td>1.817985</td>\n",
       "    </tr>\n",
       "    <tr>\n",
       "      <th>197</th>\n",
       "      <td>Keras (MIT)</td>\n",
       "      <td>1.812584</td>\n",
       "    </tr>\n",
       "    <tr>\n",
       "      <th>229</th>\n",
       "      <td>Machine Learning Tooling</td>\n",
       "      <td>1.761412</td>\n",
       "    </tr>\n",
       "    <tr>\n",
       "      <th>172</th>\n",
       "      <td>IBM</td>\n",
       "      <td>1.659246</td>\n",
       "    </tr>\n",
       "    <tr>\n",
       "      <th>366</th>\n",
       "      <td>Stanford University</td>\n",
       "      <td>1.605029</td>\n",
       "    </tr>\n",
       "  </tbody>\n",
       "</table>\n",
       "</div>"
      ],
      "text/plain": [
       "                                      Owner   PageRank\n",
       "244                               Microsoft  15.659560\n",
       "131                                FOSSASIA  14.150417\n",
       "31                                 Alphabet  11.184247\n",
       "132                                Facebook   8.080870\n",
       "377                              TensorFlow   7.264442\n",
       "458                                 fast.ai   4.758368\n",
       "260                                  NVIDIA   4.599322\n",
       "183                                   Intel   3.614522\n",
       "33                                   Amazon   3.547098\n",
       "96                                Datawhale   2.723142\n",
       "361                                    Sony   2.690252\n",
       "431                                aio-libs   2.649202\n",
       "376                                 Tencent   2.213923\n",
       "35                                   Apache   2.153145\n",
       "130                            Explosion.ai   1.950663\n",
       "113  Distributed Machine Learning Community   1.817985\n",
       "197                             Keras (MIT)   1.812584\n",
       "229                Machine Learning Tooling   1.761412\n",
       "172                                     IBM   1.659246\n",
       "366                     Stanford University   1.605029"
      ]
     },
     "execution_count": 11,
     "metadata": {},
     "output_type": "execute_result"
    }
   ],
   "source": [
    "# pagerank by owner\n",
    "\n",
    "df_owner_pagerank = (df_repo_pagerank\n",
    "                      .groupby(['Owner'])['PageRank']\n",
    "                      .sum()\n",
    "                      .reset_index()\n",
    "                      .sort_values(by = 'PageRank', ascending = False)\n",
    "                      .head(20))\n",
    "df_owner_pagerank"
   ]
  },
  {
   "cell_type": "markdown",
   "id": "f8bafe8e",
   "metadata": {},
   "source": [
    "## Centrality : Betweenness"
   ]
  },
  {
   "cell_type": "code",
   "execution_count": 12,
   "id": "5056316d",
   "metadata": {
    "slideshow": {
     "slide_type": "slide"
    }
   },
   "outputs": [
    {
     "data": {
      "text/plain": [
       "[<Record minimumScore=0.0 maximumScore=1197.6666666666667 scoreSum=8460.0 nodePropertiesWritten=989>]"
      ]
     },
     "execution_count": 12,
     "metadata": {},
     "output_type": "execute_result"
    }
   ],
   "source": [
    "# gds centrality (betweenness) of similarity write\n",
    "query_betweenness_write = '''\n",
    "    CALL gds.betweenness.write('mlgitGraph',{\n",
    "        writeProperty: 'betweenness'\n",
    "    })\n",
    "    YIELD minimumScore, maximumScore, scoreSum, nodePropertiesWritten\n",
    "'''\n",
    "\n",
    "con.query(query_betweenness_write, db = 'mlgit')"
   ]
  },
  {
   "cell_type": "code",
   "execution_count": 13,
   "id": "10965022",
   "metadata": {
    "slideshow": {
     "slide_type": "subslide"
    }
   },
   "outputs": [
    {
     "data": {
      "text/html": [
       "<div>\n",
       "<style scoped>\n",
       "    .dataframe tbody tr th:only-of-type {\n",
       "        vertical-align: middle;\n",
       "    }\n",
       "\n",
       "    .dataframe tbody tr th {\n",
       "        vertical-align: top;\n",
       "    }\n",
       "\n",
       "    .dataframe thead th {\n",
       "        text-align: right;\n",
       "    }\n",
       "</style>\n",
       "<table border=\"1\" class=\"dataframe\">\n",
       "  <thead>\n",
       "    <tr style=\"text-align: right;\">\n",
       "      <th></th>\n",
       "      <th>NodeID</th>\n",
       "      <th>Owner</th>\n",
       "      <th>RepoName</th>\n",
       "      <th>Betweenness</th>\n",
       "    </tr>\n",
       "  </thead>\n",
       "  <tbody>\n",
       "    <tr>\n",
       "      <th>0</th>\n",
       "      <td>1366</td>\n",
       "      <td>Sony</td>\n",
       "      <td>nnabla</td>\n",
       "      <td>1197.666667</td>\n",
       "    </tr>\n",
       "    <tr>\n",
       "      <th>1</th>\n",
       "      <td>820</td>\n",
       "      <td>Keras-RL</td>\n",
       "      <td>keras-rl</td>\n",
       "      <td>531.500000</td>\n",
       "    </tr>\n",
       "    <tr>\n",
       "      <th>2</th>\n",
       "      <td>1214</td>\n",
       "      <td>Lasagne</td>\n",
       "      <td>Lasagne</td>\n",
       "      <td>498.000000</td>\n",
       "    </tr>\n",
       "    <tr>\n",
       "      <th>3</th>\n",
       "      <td>1170</td>\n",
       "      <td>Keras (MIT)</td>\n",
       "      <td>keras-contrib</td>\n",
       "      <td>263.500000</td>\n",
       "    </tr>\n",
       "    <tr>\n",
       "      <th>4</th>\n",
       "      <td>885</td>\n",
       "      <td>Horovod</td>\n",
       "      <td>horovod</td>\n",
       "      <td>235.000000</td>\n",
       "    </tr>\n",
       "    <tr>\n",
       "      <th>5</th>\n",
       "      <td>806</td>\n",
       "      <td>Keras (MIT)</td>\n",
       "      <td>keras</td>\n",
       "      <td>232.000000</td>\n",
       "    </tr>\n",
       "    <tr>\n",
       "      <th>6</th>\n",
       "      <td>882</td>\n",
       "      <td>University of California, Berkeley</td>\n",
       "      <td>SparkNet</td>\n",
       "      <td>211.333333</td>\n",
       "    </tr>\n",
       "    <tr>\n",
       "      <th>7</th>\n",
       "      <td>1425</td>\n",
       "      <td>kornia</td>\n",
       "      <td>kornia</td>\n",
       "      <td>205.333333</td>\n",
       "    </tr>\n",
       "    <tr>\n",
       "      <th>8</th>\n",
       "      <td>1035</td>\n",
       "      <td>Alphabet</td>\n",
       "      <td>google-research</td>\n",
       "      <td>196.000000</td>\n",
       "    </tr>\n",
       "    <tr>\n",
       "      <th>9</th>\n",
       "      <td>1428</td>\n",
       "      <td>OpenNMT</td>\n",
       "      <td>OpenNMT-py</td>\n",
       "      <td>192.500000</td>\n",
       "    </tr>\n",
       "    <tr>\n",
       "      <th>10</th>\n",
       "      <td>1811</td>\n",
       "      <td>Microsoft</td>\n",
       "      <td>tf-gnn-samples</td>\n",
       "      <td>186.000000</td>\n",
       "    </tr>\n",
       "    <tr>\n",
       "      <th>11</th>\n",
       "      <td>590</td>\n",
       "      <td>Keras (MIT)</td>\n",
       "      <td>autokeras</td>\n",
       "      <td>176.000000</td>\n",
       "    </tr>\n",
       "    <tr>\n",
       "      <th>12</th>\n",
       "      <td>1437</td>\n",
       "      <td>Open Neural Network Exchange</td>\n",
       "      <td>onnx</td>\n",
       "      <td>134.833333</td>\n",
       "    </tr>\n",
       "    <tr>\n",
       "      <th>13</th>\n",
       "      <td>1659</td>\n",
       "      <td>FOSSASIA</td>\n",
       "      <td>susi_iOS</td>\n",
       "      <td>133.333333</td>\n",
       "    </tr>\n",
       "    <tr>\n",
       "      <th>14</th>\n",
       "      <td>793</td>\n",
       "      <td>Databricks</td>\n",
       "      <td>spark-deep-learning</td>\n",
       "      <td>125.833333</td>\n",
       "    </tr>\n",
       "    <tr>\n",
       "      <th>15</th>\n",
       "      <td>1658</td>\n",
       "      <td>FOSSASIA</td>\n",
       "      <td>susi_gassistantbot</td>\n",
       "      <td>124.500000</td>\n",
       "    </tr>\n",
       "    <tr>\n",
       "      <th>16</th>\n",
       "      <td>884</td>\n",
       "      <td>Samsung</td>\n",
       "      <td>veles</td>\n",
       "      <td>124.000000</td>\n",
       "    </tr>\n",
       "    <tr>\n",
       "      <th>17</th>\n",
       "      <td>1824</td>\n",
       "      <td>Open Neural Network Exchange</td>\n",
       "      <td>onnx-tensorflow</td>\n",
       "      <td>105.166667</td>\n",
       "    </tr>\n",
       "    <tr>\n",
       "      <th>18</th>\n",
       "      <td>2194</td>\n",
       "      <td>Niutrans Research</td>\n",
       "      <td>MTBook</td>\n",
       "      <td>100.000000</td>\n",
       "    </tr>\n",
       "    <tr>\n",
       "      <th>19</th>\n",
       "      <td>523</td>\n",
       "      <td>TensorFlow</td>\n",
       "      <td>tensorflow</td>\n",
       "      <td>96.500000</td>\n",
       "    </tr>\n",
       "  </tbody>\n",
       "</table>\n",
       "</div>"
      ],
      "text/plain": [
       "    NodeID                               Owner             RepoName  \\\n",
       "0     1366                                Sony               nnabla   \n",
       "1      820                            Keras-RL             keras-rl   \n",
       "2     1214                             Lasagne              Lasagne   \n",
       "3     1170                         Keras (MIT)        keras-contrib   \n",
       "4      885                             Horovod              horovod   \n",
       "5      806                         Keras (MIT)                keras   \n",
       "6      882  University of California, Berkeley             SparkNet   \n",
       "7     1425                              kornia               kornia   \n",
       "8     1035                            Alphabet      google-research   \n",
       "9     1428                             OpenNMT           OpenNMT-py   \n",
       "10    1811                           Microsoft       tf-gnn-samples   \n",
       "11     590                         Keras (MIT)            autokeras   \n",
       "12    1437        Open Neural Network Exchange                 onnx   \n",
       "13    1659                            FOSSASIA             susi_iOS   \n",
       "14     793                          Databricks  spark-deep-learning   \n",
       "15    1658                            FOSSASIA   susi_gassistantbot   \n",
       "16     884                             Samsung                veles   \n",
       "17    1824        Open Neural Network Exchange      onnx-tensorflow   \n",
       "18    2194                   Niutrans Research               MTBook   \n",
       "19     523                          TensorFlow           tensorflow   \n",
       "\n",
       "    Betweenness  \n",
       "0   1197.666667  \n",
       "1    531.500000  \n",
       "2    498.000000  \n",
       "3    263.500000  \n",
       "4    235.000000  \n",
       "5    232.000000  \n",
       "6    211.333333  \n",
       "7    205.333333  \n",
       "8    196.000000  \n",
       "9    192.500000  \n",
       "10   186.000000  \n",
       "11   176.000000  \n",
       "12   134.833333  \n",
       "13   133.333333  \n",
       "14   125.833333  \n",
       "15   124.500000  \n",
       "16   124.000000  \n",
       "17   105.166667  \n",
       "18   100.000000  \n",
       "19    96.500000  "
      ]
     },
     "execution_count": 13,
     "metadata": {},
     "output_type": "execute_result"
    }
   ],
   "source": [
    "# pull betweenness centrality result\n",
    "query_betweenness_pull = '''\n",
    "    MATCH (r:Repository)\n",
    "    RETURN DISTINCT r.id, r.owner, r.name, r.betweenness\n",
    "    ORDER BY r.betweenness DESC\n",
    "'''\n",
    "\n",
    "df_repo_betweenness = (pd\n",
    "                      .DataFrame([dict(_) for _ in con.query(query_betweenness_pull, db = 'mlgit')])\n",
    "                      .rename(columns = {'r.id':'NodeID',\n",
    "                                      'r.owner':'Owner',\n",
    "                                      'r.name':'RepoName',\n",
    "                                      'r.betweenness':'Betweenness'}))\n",
    "\n",
    "# betweenness by repo\n",
    "df_repo_betweenness.head(20)"
   ]
  },
  {
   "cell_type": "code",
   "execution_count": 14,
   "id": "70ba88a6",
   "metadata": {
    "slideshow": {
     "slide_type": "subslide"
    }
   },
   "outputs": [
    {
     "data": {
      "text/html": [
       "<div>\n",
       "<style scoped>\n",
       "    .dataframe tbody tr th:only-of-type {\n",
       "        vertical-align: middle;\n",
       "    }\n",
       "\n",
       "    .dataframe tbody tr th {\n",
       "        vertical-align: top;\n",
       "    }\n",
       "\n",
       "    .dataframe thead th {\n",
       "        text-align: right;\n",
       "    }\n",
       "</style>\n",
       "<table border=\"1\" class=\"dataframe\">\n",
       "  <thead>\n",
       "    <tr style=\"text-align: right;\">\n",
       "      <th></th>\n",
       "      <th>Owner</th>\n",
       "      <th>Betweenness</th>\n",
       "    </tr>\n",
       "  </thead>\n",
       "  <tbody>\n",
       "    <tr>\n",
       "      <th>361</th>\n",
       "      <td>Sony</td>\n",
       "      <td>1197.666667</td>\n",
       "    </tr>\n",
       "    <tr>\n",
       "      <th>197</th>\n",
       "      <td>Keras (MIT)</td>\n",
       "      <td>671.500000</td>\n",
       "    </tr>\n",
       "    <tr>\n",
       "      <th>131</th>\n",
       "      <td>FOSSASIA</td>\n",
       "      <td>550.000000</td>\n",
       "    </tr>\n",
       "    <tr>\n",
       "      <th>244</th>\n",
       "      <td>Microsoft</td>\n",
       "      <td>535.500000</td>\n",
       "    </tr>\n",
       "    <tr>\n",
       "      <th>198</th>\n",
       "      <td>Keras-RL</td>\n",
       "      <td>531.500000</td>\n",
       "    </tr>\n",
       "    <tr>\n",
       "      <th>206</th>\n",
       "      <td>Lasagne</td>\n",
       "      <td>498.000000</td>\n",
       "    </tr>\n",
       "    <tr>\n",
       "      <th>31</th>\n",
       "      <td>Alphabet</td>\n",
       "      <td>367.500000</td>\n",
       "    </tr>\n",
       "    <tr>\n",
       "      <th>282</th>\n",
       "      <td>Open Neural Network Exchange</td>\n",
       "      <td>244.500000</td>\n",
       "    </tr>\n",
       "    <tr>\n",
       "      <th>166</th>\n",
       "      <td>Horovod</td>\n",
       "      <td>235.000000</td>\n",
       "    </tr>\n",
       "    <tr>\n",
       "      <th>404</th>\n",
       "      <td>University of California, Berkeley</td>\n",
       "      <td>211.333333</td>\n",
       "    </tr>\n",
       "    <tr>\n",
       "      <th>478</th>\n",
       "      <td>kornia</td>\n",
       "      <td>205.333333</td>\n",
       "    </tr>\n",
       "    <tr>\n",
       "      <th>290</th>\n",
       "      <td>OpenNMT</td>\n",
       "      <td>196.000000</td>\n",
       "    </tr>\n",
       "    <tr>\n",
       "      <th>132</th>\n",
       "      <td>Facebook</td>\n",
       "      <td>194.500000</td>\n",
       "    </tr>\n",
       "    <tr>\n",
       "      <th>377</th>\n",
       "      <td>TensorFlow</td>\n",
       "      <td>156.500000</td>\n",
       "    </tr>\n",
       "    <tr>\n",
       "      <th>94</th>\n",
       "      <td>Databricks</td>\n",
       "      <td>125.833333</td>\n",
       "    </tr>\n",
       "    <tr>\n",
       "      <th>341</th>\n",
       "      <td>Samsung</td>\n",
       "      <td>124.000000</td>\n",
       "    </tr>\n",
       "    <tr>\n",
       "      <th>272</th>\n",
       "      <td>Niutrans Research</td>\n",
       "      <td>100.000000</td>\n",
       "    </tr>\n",
       "    <tr>\n",
       "      <th>71</th>\n",
       "      <td>Carnegie Melon University</td>\n",
       "      <td>94.500000</td>\n",
       "    </tr>\n",
       "    <tr>\n",
       "      <th>54</th>\n",
       "      <td>Berkeley Vision and Learning Center</td>\n",
       "      <td>90.333333</td>\n",
       "    </tr>\n",
       "    <tr>\n",
       "      <th>109</th>\n",
       "      <td>Devisters</td>\n",
       "      <td>89.000000</td>\n",
       "    </tr>\n",
       "  </tbody>\n",
       "</table>\n",
       "</div>"
      ],
      "text/plain": [
       "                                   Owner  Betweenness\n",
       "361                                 Sony  1197.666667\n",
       "197                          Keras (MIT)   671.500000\n",
       "131                             FOSSASIA   550.000000\n",
       "244                            Microsoft   535.500000\n",
       "198                             Keras-RL   531.500000\n",
       "206                              Lasagne   498.000000\n",
       "31                              Alphabet   367.500000\n",
       "282         Open Neural Network Exchange   244.500000\n",
       "166                              Horovod   235.000000\n",
       "404   University of California, Berkeley   211.333333\n",
       "478                               kornia   205.333333\n",
       "290                              OpenNMT   196.000000\n",
       "132                             Facebook   194.500000\n",
       "377                           TensorFlow   156.500000\n",
       "94                            Databricks   125.833333\n",
       "341                              Samsung   124.000000\n",
       "272                    Niutrans Research   100.000000\n",
       "71             Carnegie Melon University    94.500000\n",
       "54   Berkeley Vision and Learning Center    90.333333\n",
       "109                            Devisters    89.000000"
      ]
     },
     "execution_count": 14,
     "metadata": {},
     "output_type": "execute_result"
    }
   ],
   "source": [
    "# betweenness by owner\n",
    "\n",
    "df_owner_betweenness = (df_repo_betweenness\n",
    "                       .groupby(['Owner'])['Betweenness']\n",
    "                       .sum()\n",
    "                       .reset_index()\n",
    "                       .sort_values(by = 'Betweenness', ascending = False)\n",
    "                       .head(20))\n",
    "df_owner_betweenness"
   ]
  },
  {
   "cell_type": "markdown",
   "id": "2f980fef",
   "metadata": {
    "slideshow": {
     "slide_type": "slide"
    }
   },
   "source": [
    "## Ensemble Scoring for Influence in AI Market"
   ]
  },
  {
   "cell_type": "code",
   "execution_count": 34,
   "id": "d2bc3323",
   "metadata": {
    "jupyter": {
     "source_hidden": true
    },
    "slideshow": {
     "slide_type": "subslide"
    }
   },
   "outputs": [],
   "source": [
    "# pull all scoring\n",
    "query_ensemble = '''\n",
    "    MATCH (r:Repository)\n",
    "    RETURN DISTINCT r.id, r.owner, r.name, r.star, r.fork, r.watcher, r.pagerank, r.betweenness\n",
    "    ORDER BY r.pagerank DESC\n",
    "'''\n",
    "\n",
    "q_repo_ensemble = con.query(query_ensemble, db = 'mlgit')\n",
    "df_repo_ensemble = (pd\n",
    "                   .DataFrame([dict(_) for _ in q_repo_ensemble])\n",
    "                   .rename(columns = {'r.id':'NodeID',\n",
    "                                     'r.owner':'Owner',\n",
    "                                     'r.name':'RepoName',\n",
    "                                     'r.star':'StarNorm',\n",
    "                                     'r.fork':'ForkNorm',\n",
    "                                     'r.watcher':'WatcherNorm',\n",
    "                                     'r.pagerank':'PageRank',\n",
    "                                     'r.betweenness':'Betweenness'}))\n",
    "\n",
    "# InDegree df prep\n",
    "df_repo_indegree_join = df_repo_indegree[['NodeID','InDegree']]\n",
    "\n",
    "# ensemble by repo\n",
    "df_repo_ensemble = pd.merge(df_repo_ensemble,df_repo_indegree_join,on='NodeID')"
   ]
  },
  {
   "cell_type": "code",
   "execution_count": 48,
   "id": "4b2068fe",
   "metadata": {},
   "outputs": [],
   "source": [
    "# normalize function\n",
    "def df_norm(df,col):\n",
    "    # normalize data frame columns\n",
    "    return (df[col]-df[col].min())/(df[col].max()-df[col].min())\n",
    "\n",
    "df_repo_ensemble['PageRankNorm'] = df_norm(df_repo_ensemble,'PageRank')\n",
    "df_repo_ensemble['BetweennessNorm'] = df_norm(df_repo_ensemble, 'Betweenness')\n",
    "df_repo_ensemble['InDegreeNorm'] = df_norm(df_repo_ensemble, 'InDegree')\n",
    "df_repo_ensemble_norm = df_repo_ensemble.drop(columns = ['PageRank','Betweenness','InDegree'])"
   ]
  },
  {
   "cell_type": "code",
   "execution_count": 54,
   "id": "49a75190",
   "metadata": {
    "slideshow": {
     "slide_type": "subslide"
    }
   },
   "outputs": [
    {
     "data": {
      "text/html": [
       "<div>\n",
       "<style scoped>\n",
       "    .dataframe tbody tr th:only-of-type {\n",
       "        vertical-align: middle;\n",
       "    }\n",
       "\n",
       "    .dataframe tbody tr th {\n",
       "        vertical-align: top;\n",
       "    }\n",
       "\n",
       "    .dataframe thead th {\n",
       "        text-align: right;\n",
       "    }\n",
       "</style>\n",
       "<table border=\"1\" class=\"dataframe\">\n",
       "  <thead>\n",
       "    <tr style=\"text-align: right;\">\n",
       "      <th></th>\n",
       "      <th>NodeID</th>\n",
       "      <th>Owner</th>\n",
       "      <th>RepoName</th>\n",
       "      <th>StarNorm</th>\n",
       "      <th>ForkNorm</th>\n",
       "      <th>WatcherNorm</th>\n",
       "      <th>PageRankNorm</th>\n",
       "      <th>BetweennessNorm</th>\n",
       "      <th>InDegreeNorm</th>\n",
       "      <th>Influence_Score</th>\n",
       "      <th>Owner_Repo</th>\n",
       "    </tr>\n",
       "  </thead>\n",
       "  <tbody>\n",
       "    <tr>\n",
       "      <th>1</th>\n",
       "      <td>1366</td>\n",
       "      <td>Sony</td>\n",
       "      <td>nnabla</td>\n",
       "      <td>0.461824</td>\n",
       "      <td>0.420362</td>\n",
       "      <td>0.517064</td>\n",
       "      <td>0.939681</td>\n",
       "      <td>1.000000</td>\n",
       "      <td>1.000000</td>\n",
       "      <td>0.723155</td>\n",
       "      <td>Sony/nnabla</td>\n",
       "    </tr>\n",
       "    <tr>\n",
       "      <th>7</th>\n",
       "      <td>2164</td>\n",
       "      <td>scikit-learn</td>\n",
       "      <td>scikit-learn</td>\n",
       "      <td>1.000000</td>\n",
       "      <td>1.000000</td>\n",
       "      <td>1.000000</td>\n",
       "      <td>0.459746</td>\n",
       "      <td>0.017534</td>\n",
       "      <td>0.333333</td>\n",
       "      <td>0.635102</td>\n",
       "      <td>scikit-learn/scikit-learn</td>\n",
       "    </tr>\n",
       "    <tr>\n",
       "      <th>62</th>\n",
       "      <td>2189</td>\n",
       "      <td>Dive into Deep Learning</td>\n",
       "      <td>d2l-zh</td>\n",
       "      <td>0.999910</td>\n",
       "      <td>0.982293</td>\n",
       "      <td>0.992450</td>\n",
       "      <td>0.156091</td>\n",
       "      <td>0.026289</td>\n",
       "      <td>0.611111</td>\n",
       "      <td>0.628024</td>\n",
       "      <td>Dive into Deep Learning/d2l-zh</td>\n",
       "    </tr>\n",
       "    <tr>\n",
       "      <th>61</th>\n",
       "      <td>1035</td>\n",
       "      <td>Alphabet</td>\n",
       "      <td>google-research</td>\n",
       "      <td>0.995560</td>\n",
       "      <td>0.904793</td>\n",
       "      <td>0.956689</td>\n",
       "      <td>0.157951</td>\n",
       "      <td>0.163652</td>\n",
       "      <td>0.416667</td>\n",
       "      <td>0.599219</td>\n",
       "      <td>Alphabet/google-research</td>\n",
       "    </tr>\n",
       "    <tr>\n",
       "      <th>134</th>\n",
       "      <td>806</td>\n",
       "      <td>Keras (MIT)</td>\n",
       "      <td>keras</td>\n",
       "      <td>1.000000</td>\n",
       "      <td>1.000000</td>\n",
       "      <td>1.000000</td>\n",
       "      <td>0.084542</td>\n",
       "      <td>0.193710</td>\n",
       "      <td>0.305556</td>\n",
       "      <td>0.597301</td>\n",
       "      <td>Keras (MIT)/keras</td>\n",
       "    </tr>\n",
       "    <tr>\n",
       "      <th>291</th>\n",
       "      <td>523</td>\n",
       "      <td>TensorFlow</td>\n",
       "      <td>tensorflow</td>\n",
       "      <td>1.000000</td>\n",
       "      <td>1.000000</td>\n",
       "      <td>1.000000</td>\n",
       "      <td>0.027513</td>\n",
       "      <td>0.080573</td>\n",
       "      <td>0.361111</td>\n",
       "      <td>0.578199</td>\n",
       "      <td>TensorFlow/tensorflow</td>\n",
       "    </tr>\n",
       "    <tr>\n",
       "      <th>9</th>\n",
       "      <td>1884</td>\n",
       "      <td>fast.ai</td>\n",
       "      <td>fastai</td>\n",
       "      <td>0.999175</td>\n",
       "      <td>0.994714</td>\n",
       "      <td>0.942351</td>\n",
       "      <td>0.443786</td>\n",
       "      <td>0.000000</td>\n",
       "      <td>0.027778</td>\n",
       "      <td>0.567967</td>\n",
       "      <td>fast.ai/fastai</td>\n",
       "    </tr>\n",
       "    <tr>\n",
       "      <th>67</th>\n",
       "      <td>1423</td>\n",
       "      <td>OpenCV</td>\n",
       "      <td>opencv</td>\n",
       "      <td>1.000000</td>\n",
       "      <td>1.000000</td>\n",
       "      <td>1.000000</td>\n",
       "      <td>0.148611</td>\n",
       "      <td>0.000000</td>\n",
       "      <td>0.194444</td>\n",
       "      <td>0.557176</td>\n",
       "      <td>OpenCV/opencv</td>\n",
       "    </tr>\n",
       "    <tr>\n",
       "      <th>88</th>\n",
       "      <td>2197</td>\n",
       "      <td>nndl</td>\n",
       "      <td>nndl.github.io</td>\n",
       "      <td>0.977181</td>\n",
       "      <td>0.841445</td>\n",
       "      <td>0.976751</td>\n",
       "      <td>0.123737</td>\n",
       "      <td>0.001908</td>\n",
       "      <td>0.416667</td>\n",
       "      <td>0.556282</td>\n",
       "      <td>nndl/nndl.github.io</td>\n",
       "    </tr>\n",
       "    <tr>\n",
       "      <th>24</th>\n",
       "      <td>1684</td>\n",
       "      <td>Distributed Machine Learning Community</td>\n",
       "      <td>xgboost</td>\n",
       "      <td>0.999235</td>\n",
       "      <td>0.998480</td>\n",
       "      <td>0.995830</td>\n",
       "      <td>0.255182</td>\n",
       "      <td>0.000000</td>\n",
       "      <td>0.083333</td>\n",
       "      <td>0.555344</td>\n",
       "      <td>Distributed Machine Learning Community/xgboost</td>\n",
       "    </tr>\n",
       "    <tr>\n",
       "      <th>10</th>\n",
       "      <td>1883</td>\n",
       "      <td>fast.ai</td>\n",
       "      <td>fastbook</td>\n",
       "      <td>0.953929</td>\n",
       "      <td>0.928909</td>\n",
       "      <td>0.836579</td>\n",
       "      <td>0.438870</td>\n",
       "      <td>0.034233</td>\n",
       "      <td>0.111111</td>\n",
       "      <td>0.550605</td>\n",
       "      <td>fast.ai/fastbook</td>\n",
       "    </tr>\n",
       "    <tr>\n",
       "      <th>285</th>\n",
       "      <td>1461</td>\n",
       "      <td>PaddlePaddle</td>\n",
       "      <td>Paddle</td>\n",
       "      <td>0.987100</td>\n",
       "      <td>0.892322</td>\n",
       "      <td>0.971824</td>\n",
       "      <td>0.028856</td>\n",
       "      <td>0.002672</td>\n",
       "      <td>0.361111</td>\n",
       "      <td>0.540648</td>\n",
       "      <td>PaddlePaddle/Paddle</td>\n",
       "    </tr>\n",
       "    <tr>\n",
       "      <th>106</th>\n",
       "      <td>1830</td>\n",
       "      <td>Facebook</td>\n",
       "      <td>pytorch</td>\n",
       "      <td>1.000000</td>\n",
       "      <td>1.000000</td>\n",
       "      <td>0.999999</td>\n",
       "      <td>0.100849</td>\n",
       "      <td>0.009185</td>\n",
       "      <td>0.111111</td>\n",
       "      <td>0.536857</td>\n",
       "      <td>Facebook/pytorch</td>\n",
       "    </tr>\n",
       "    <tr>\n",
       "      <th>438</th>\n",
       "      <td>657</td>\n",
       "      <td>Berkeley Vision and Learning Center</td>\n",
       "      <td>caffe</td>\n",
       "      <td>1.000000</td>\n",
       "      <td>1.000000</td>\n",
       "      <td>1.000000</td>\n",
       "      <td>0.005879</td>\n",
       "      <td>0.075424</td>\n",
       "      <td>0.138889</td>\n",
       "      <td>0.536699</td>\n",
       "      <td>Berkeley Vision and Learning Center/caffe</td>\n",
       "    </tr>\n",
       "    <tr>\n",
       "      <th>191</th>\n",
       "      <td>2191</td>\n",
       "      <td>Datawhale</td>\n",
       "      <td>pumpkin-book</td>\n",
       "      <td>0.994138</td>\n",
       "      <td>0.906376</td>\n",
       "      <td>0.928206</td>\n",
       "      <td>0.052681</td>\n",
       "      <td>0.000907</td>\n",
       "      <td>0.333333</td>\n",
       "      <td>0.535940</td>\n",
       "      <td>Datawhale/pumpkin-book</td>\n",
       "    </tr>\n",
       "    <tr>\n",
       "      <th>23</th>\n",
       "      <td>2304</td>\n",
       "      <td>Explosion.ai</td>\n",
       "      <td>spaCy</td>\n",
       "      <td>0.998987</td>\n",
       "      <td>0.862420</td>\n",
       "      <td>0.919217</td>\n",
       "      <td>0.256458</td>\n",
       "      <td>0.000000</td>\n",
       "      <td>0.166667</td>\n",
       "      <td>0.533958</td>\n",
       "      <td>Explosion.ai/spaCy</td>\n",
       "    </tr>\n",
       "    <tr>\n",
       "      <th>115</th>\n",
       "      <td>2351</td>\n",
       "      <td>Xitu</td>\n",
       "      <td>gold-miner</td>\n",
       "      <td>0.999997</td>\n",
       "      <td>0.944595</td>\n",
       "      <td>0.999888</td>\n",
       "      <td>0.094781</td>\n",
       "      <td>0.000000</td>\n",
       "      <td>0.055556</td>\n",
       "      <td>0.515803</td>\n",
       "      <td>Xitu/gold-miner</td>\n",
       "    </tr>\n",
       "    <tr>\n",
       "      <th>141</th>\n",
       "      <td>1833</td>\n",
       "      <td>tesseract-ocr</td>\n",
       "      <td>tesseract</td>\n",
       "      <td>1.000000</td>\n",
       "      <td>0.996284</td>\n",
       "      <td>1.000000</td>\n",
       "      <td>0.079459</td>\n",
       "      <td>0.000000</td>\n",
       "      <td>0.000000</td>\n",
       "      <td>0.512624</td>\n",
       "      <td>tesseract-ocr/tesseract</td>\n",
       "    </tr>\n",
       "    <tr>\n",
       "      <th>301</th>\n",
       "      <td>786</td>\n",
       "      <td>Exacity</td>\n",
       "      <td>deeplearningbook-chinese</td>\n",
       "      <td>1.000000</td>\n",
       "      <td>0.999482</td>\n",
       "      <td>1.000000</td>\n",
       "      <td>0.023606</td>\n",
       "      <td>0.000000</td>\n",
       "      <td>0.027778</td>\n",
       "      <td>0.508477</td>\n",
       "      <td>Exacity/deeplearningbook-chinese</td>\n",
       "    </tr>\n",
       "    <tr>\n",
       "      <th>104</th>\n",
       "      <td>1318</td>\n",
       "      <td>Eclipse</td>\n",
       "      <td>deeplearning4j</td>\n",
       "      <td>0.943472</td>\n",
       "      <td>0.953529</td>\n",
       "      <td>0.984838</td>\n",
       "      <td>0.101654</td>\n",
       "      <td>0.000000</td>\n",
       "      <td>0.055556</td>\n",
       "      <td>0.506508</td>\n",
       "      <td>Eclipse/deeplearning4j</td>\n",
       "    </tr>\n",
       "  </tbody>\n",
       "</table>\n",
       "</div>"
      ],
      "text/plain": [
       "     NodeID                                   Owner                  RepoName  \\\n",
       "1      1366                                    Sony                    nnabla   \n",
       "7      2164                            scikit-learn              scikit-learn   \n",
       "62     2189                 Dive into Deep Learning                    d2l-zh   \n",
       "61     1035                                Alphabet           google-research   \n",
       "134     806                             Keras (MIT)                     keras   \n",
       "291     523                              TensorFlow                tensorflow   \n",
       "9      1884                                 fast.ai                    fastai   \n",
       "67     1423                                  OpenCV                    opencv   \n",
       "88     2197                                    nndl            nndl.github.io   \n",
       "24     1684  Distributed Machine Learning Community                   xgboost   \n",
       "10     1883                                 fast.ai                  fastbook   \n",
       "285    1461                            PaddlePaddle                    Paddle   \n",
       "106    1830                                Facebook                   pytorch   \n",
       "438     657     Berkeley Vision and Learning Center                     caffe   \n",
       "191    2191                               Datawhale              pumpkin-book   \n",
       "23     2304                            Explosion.ai                     spaCy   \n",
       "115    2351                                    Xitu                gold-miner   \n",
       "141    1833                           tesseract-ocr                 tesseract   \n",
       "301     786                                 Exacity  deeplearningbook-chinese   \n",
       "104    1318                                 Eclipse            deeplearning4j   \n",
       "\n",
       "     StarNorm  ForkNorm  WatcherNorm  PageRankNorm  BetweennessNorm  \\\n",
       "1    0.461824  0.420362     0.517064      0.939681         1.000000   \n",
       "7    1.000000  1.000000     1.000000      0.459746         0.017534   \n",
       "62   0.999910  0.982293     0.992450      0.156091         0.026289   \n",
       "61   0.995560  0.904793     0.956689      0.157951         0.163652   \n",
       "134  1.000000  1.000000     1.000000      0.084542         0.193710   \n",
       "291  1.000000  1.000000     1.000000      0.027513         0.080573   \n",
       "9    0.999175  0.994714     0.942351      0.443786         0.000000   \n",
       "67   1.000000  1.000000     1.000000      0.148611         0.000000   \n",
       "88   0.977181  0.841445     0.976751      0.123737         0.001908   \n",
       "24   0.999235  0.998480     0.995830      0.255182         0.000000   \n",
       "10   0.953929  0.928909     0.836579      0.438870         0.034233   \n",
       "285  0.987100  0.892322     0.971824      0.028856         0.002672   \n",
       "106  1.000000  1.000000     0.999999      0.100849         0.009185   \n",
       "438  1.000000  1.000000     1.000000      0.005879         0.075424   \n",
       "191  0.994138  0.906376     0.928206      0.052681         0.000907   \n",
       "23   0.998987  0.862420     0.919217      0.256458         0.000000   \n",
       "115  0.999997  0.944595     0.999888      0.094781         0.000000   \n",
       "141  1.000000  0.996284     1.000000      0.079459         0.000000   \n",
       "301  1.000000  0.999482     1.000000      0.023606         0.000000   \n",
       "104  0.943472  0.953529     0.984838      0.101654         0.000000   \n",
       "\n",
       "     InDegreeNorm  Influence_Score  \\\n",
       "1        1.000000         0.723155   \n",
       "7        0.333333         0.635102   \n",
       "62       0.611111         0.628024   \n",
       "61       0.416667         0.599219   \n",
       "134      0.305556         0.597301   \n",
       "291      0.361111         0.578199   \n",
       "9        0.027778         0.567967   \n",
       "67       0.194444         0.557176   \n",
       "88       0.416667         0.556282   \n",
       "24       0.083333         0.555344   \n",
       "10       0.111111         0.550605   \n",
       "285      0.361111         0.540648   \n",
       "106      0.111111         0.536857   \n",
       "438      0.138889         0.536699   \n",
       "191      0.333333         0.535940   \n",
       "23       0.166667         0.533958   \n",
       "115      0.055556         0.515803   \n",
       "141      0.000000         0.512624   \n",
       "301      0.027778         0.508477   \n",
       "104      0.055556         0.506508   \n",
       "\n",
       "                                         Owner_Repo  \n",
       "1                                       Sony/nnabla  \n",
       "7                         scikit-learn/scikit-learn  \n",
       "62                   Dive into Deep Learning/d2l-zh  \n",
       "61                         Alphabet/google-research  \n",
       "134                               Keras (MIT)/keras  \n",
       "291                           TensorFlow/tensorflow  \n",
       "9                                    fast.ai/fastai  \n",
       "67                                    OpenCV/opencv  \n",
       "88                              nndl/nndl.github.io  \n",
       "24   Distributed Machine Learning Community/xgboost  \n",
       "10                                 fast.ai/fastbook  \n",
       "285                             PaddlePaddle/Paddle  \n",
       "106                                Facebook/pytorch  \n",
       "438       Berkeley Vision and Learning Center/caffe  \n",
       "191                          Datawhale/pumpkin-book  \n",
       "23                               Explosion.ai/spaCy  \n",
       "115                                 Xitu/gold-miner  \n",
       "141                         tesseract-ocr/tesseract  \n",
       "301                Exacity/deeplearningbook-chinese  \n",
       "104                          Eclipse/deeplearning4j  "
      ]
     },
     "execution_count": 54,
     "metadata": {},
     "output_type": "execute_result"
    }
   ],
   "source": [
    "# create ensemble columns (average from each Norm columns)\n",
    "df_repo_ensemble_norm['Influence_Score'] = df_repo_ensemble_norm[['StarNorm','ForkNorm','WatcherNorm',\n",
    "                                                                  'PageRankNorm','BetweennessNorm','InDegreeNorm']].mean(axis=1)\n",
    "\n",
    "# concatenate Owner and RepoName for plot\n",
    "df_repo_ensemble_norm['Owner_Repo'] = df_repo_ensemble_norm['Owner'] + '/' + df_repo_ensemble_norm['RepoName']\n",
    "\n",
    "# top 20 data frame\n",
    "df_repo_influence = (df_repo_ensemble_norm\n",
    " .sort_values(by = 'Influence_Score', ascending = False)\n",
    " .head(20))\n",
    "df_repo_influence"
   ]
  },
  {
   "cell_type": "code",
   "execution_count": 92,
   "id": "61a624b1",
   "metadata": {
    "slideshow": {
     "slide_type": "subslide"
    }
   },
   "outputs": [
    {
     "data": {
      "application/vnd.plotly.v1+json": {
       "config": {
        "plotlyServerURL": "https://plot.ly"
       },
       "data": [
        {
         "alignmentgroup": "True",
         "hovertemplate": "Influence_Score=%{x}<br>Owner_Repo=%{y}<extra></extra>",
         "legendgroup": "",
         "marker": {
          "color": "#636efa",
          "pattern": {
           "shape": ""
          }
         },
         "name": "",
         "offsetgroup": "",
         "orientation": "h",
         "showlegend": false,
         "textposition": "auto",
         "type": "bar",
         "x": [
          0.506508225034551,
          0.5084774808414363,
          0.5126238316843864,
          0.5158027821122345,
          0.5339581290021814,
          0.5359401261000087,
          0.5366987044365007,
          0.5368572193562208,
          0.5406475436335202,
          0.5506053207511922,
          0.5553436067270864,
          0.5562816382006305,
          0.5571759637770607,
          0.5679673467416501,
          0.5781994985307001,
          0.5973012763002731,
          0.5992185481174364,
          0.6280240684785967,
          0.6351022617448522,
          0.7231552699420041
         ],
         "xaxis": "x",
         "y": [
          "Eclipse/deeplearning4j",
          "Exacity/deeplearningbook-chinese",
          "tesseract-ocr/tesseract",
          "Xitu/gold-miner",
          "Explosion.ai/spaCy",
          "Datawhale/pumpkin-book",
          "Berkeley Vision and Learning Center/caffe",
          "Facebook/pytorch",
          "PaddlePaddle/Paddle",
          "fast.ai/fastbook",
          "Distributed Machine Learning Community/xgboost",
          "nndl/nndl.github.io",
          "OpenCV/opencv",
          "fast.ai/fastai",
          "TensorFlow/tensorflow",
          "Keras (MIT)/keras",
          "Alphabet/google-research",
          "Dive into Deep Learning/d2l-zh",
          "scikit-learn/scikit-learn",
          "Sony/nnabla"
         ],
         "yaxis": "y"
        }
       ],
       "layout": {
        "autosize": true,
        "barmode": "relative",
        "legend": {
         "tracegroupgap": 0
        },
        "template": {
         "data": {
          "bar": [
           {
            "error_x": {
             "color": "#f2f5fa"
            },
            "error_y": {
             "color": "#f2f5fa"
            },
            "marker": {
             "line": {
              "color": "rgb(17,17,17)",
              "width": 0.5
             },
             "pattern": {
              "fillmode": "overlay",
              "size": 10,
              "solidity": 0.2
             }
            },
            "type": "bar"
           }
          ],
          "barpolar": [
           {
            "marker": {
             "line": {
              "color": "rgb(17,17,17)",
              "width": 0.5
             },
             "pattern": {
              "fillmode": "overlay",
              "size": 10,
              "solidity": 0.2
             }
            },
            "type": "barpolar"
           }
          ],
          "carpet": [
           {
            "aaxis": {
             "endlinecolor": "#A2B1C6",
             "gridcolor": "#506784",
             "linecolor": "#506784",
             "minorgridcolor": "#506784",
             "startlinecolor": "#A2B1C6"
            },
            "baxis": {
             "endlinecolor": "#A2B1C6",
             "gridcolor": "#506784",
             "linecolor": "#506784",
             "minorgridcolor": "#506784",
             "startlinecolor": "#A2B1C6"
            },
            "type": "carpet"
           }
          ],
          "choropleth": [
           {
            "colorbar": {
             "outlinewidth": 0,
             "ticks": ""
            },
            "type": "choropleth"
           }
          ],
          "contour": [
           {
            "colorbar": {
             "outlinewidth": 0,
             "ticks": ""
            },
            "colorscale": [
             [
              0,
              "#0d0887"
             ],
             [
              0.1111111111111111,
              "#46039f"
             ],
             [
              0.2222222222222222,
              "#7201a8"
             ],
             [
              0.3333333333333333,
              "#9c179e"
             ],
             [
              0.4444444444444444,
              "#bd3786"
             ],
             [
              0.5555555555555556,
              "#d8576b"
             ],
             [
              0.6666666666666666,
              "#ed7953"
             ],
             [
              0.7777777777777778,
              "#fb9f3a"
             ],
             [
              0.8888888888888888,
              "#fdca26"
             ],
             [
              1,
              "#f0f921"
             ]
            ],
            "type": "contour"
           }
          ],
          "contourcarpet": [
           {
            "colorbar": {
             "outlinewidth": 0,
             "ticks": ""
            },
            "type": "contourcarpet"
           }
          ],
          "heatmap": [
           {
            "colorbar": {
             "outlinewidth": 0,
             "ticks": ""
            },
            "colorscale": [
             [
              0,
              "#0d0887"
             ],
             [
              0.1111111111111111,
              "#46039f"
             ],
             [
              0.2222222222222222,
              "#7201a8"
             ],
             [
              0.3333333333333333,
              "#9c179e"
             ],
             [
              0.4444444444444444,
              "#bd3786"
             ],
             [
              0.5555555555555556,
              "#d8576b"
             ],
             [
              0.6666666666666666,
              "#ed7953"
             ],
             [
              0.7777777777777778,
              "#fb9f3a"
             ],
             [
              0.8888888888888888,
              "#fdca26"
             ],
             [
              1,
              "#f0f921"
             ]
            ],
            "type": "heatmap"
           }
          ],
          "heatmapgl": [
           {
            "colorbar": {
             "outlinewidth": 0,
             "ticks": ""
            },
            "colorscale": [
             [
              0,
              "#0d0887"
             ],
             [
              0.1111111111111111,
              "#46039f"
             ],
             [
              0.2222222222222222,
              "#7201a8"
             ],
             [
              0.3333333333333333,
              "#9c179e"
             ],
             [
              0.4444444444444444,
              "#bd3786"
             ],
             [
              0.5555555555555556,
              "#d8576b"
             ],
             [
              0.6666666666666666,
              "#ed7953"
             ],
             [
              0.7777777777777778,
              "#fb9f3a"
             ],
             [
              0.8888888888888888,
              "#fdca26"
             ],
             [
              1,
              "#f0f921"
             ]
            ],
            "type": "heatmapgl"
           }
          ],
          "histogram": [
           {
            "marker": {
             "pattern": {
              "fillmode": "overlay",
              "size": 10,
              "solidity": 0.2
             }
            },
            "type": "histogram"
           }
          ],
          "histogram2d": [
           {
            "colorbar": {
             "outlinewidth": 0,
             "ticks": ""
            },
            "colorscale": [
             [
              0,
              "#0d0887"
             ],
             [
              0.1111111111111111,
              "#46039f"
             ],
             [
              0.2222222222222222,
              "#7201a8"
             ],
             [
              0.3333333333333333,
              "#9c179e"
             ],
             [
              0.4444444444444444,
              "#bd3786"
             ],
             [
              0.5555555555555556,
              "#d8576b"
             ],
             [
              0.6666666666666666,
              "#ed7953"
             ],
             [
              0.7777777777777778,
              "#fb9f3a"
             ],
             [
              0.8888888888888888,
              "#fdca26"
             ],
             [
              1,
              "#f0f921"
             ]
            ],
            "type": "histogram2d"
           }
          ],
          "histogram2dcontour": [
           {
            "colorbar": {
             "outlinewidth": 0,
             "ticks": ""
            },
            "colorscale": [
             [
              0,
              "#0d0887"
             ],
             [
              0.1111111111111111,
              "#46039f"
             ],
             [
              0.2222222222222222,
              "#7201a8"
             ],
             [
              0.3333333333333333,
              "#9c179e"
             ],
             [
              0.4444444444444444,
              "#bd3786"
             ],
             [
              0.5555555555555556,
              "#d8576b"
             ],
             [
              0.6666666666666666,
              "#ed7953"
             ],
             [
              0.7777777777777778,
              "#fb9f3a"
             ],
             [
              0.8888888888888888,
              "#fdca26"
             ],
             [
              1,
              "#f0f921"
             ]
            ],
            "type": "histogram2dcontour"
           }
          ],
          "mesh3d": [
           {
            "colorbar": {
             "outlinewidth": 0,
             "ticks": ""
            },
            "type": "mesh3d"
           }
          ],
          "parcoords": [
           {
            "line": {
             "colorbar": {
              "outlinewidth": 0,
              "ticks": ""
             }
            },
            "type": "parcoords"
           }
          ],
          "pie": [
           {
            "automargin": true,
            "type": "pie"
           }
          ],
          "scatter": [
           {
            "marker": {
             "line": {
              "color": "#283442"
             }
            },
            "type": "scatter"
           }
          ],
          "scatter3d": [
           {
            "line": {
             "colorbar": {
              "outlinewidth": 0,
              "ticks": ""
             }
            },
            "marker": {
             "colorbar": {
              "outlinewidth": 0,
              "ticks": ""
             }
            },
            "type": "scatter3d"
           }
          ],
          "scattercarpet": [
           {
            "marker": {
             "colorbar": {
              "outlinewidth": 0,
              "ticks": ""
             }
            },
            "type": "scattercarpet"
           }
          ],
          "scattergeo": [
           {
            "marker": {
             "colorbar": {
              "outlinewidth": 0,
              "ticks": ""
             }
            },
            "type": "scattergeo"
           }
          ],
          "scattergl": [
           {
            "marker": {
             "line": {
              "color": "#283442"
             }
            },
            "type": "scattergl"
           }
          ],
          "scattermapbox": [
           {
            "marker": {
             "colorbar": {
              "outlinewidth": 0,
              "ticks": ""
             }
            },
            "type": "scattermapbox"
           }
          ],
          "scatterpolar": [
           {
            "marker": {
             "colorbar": {
              "outlinewidth": 0,
              "ticks": ""
             }
            },
            "type": "scatterpolar"
           }
          ],
          "scatterpolargl": [
           {
            "marker": {
             "colorbar": {
              "outlinewidth": 0,
              "ticks": ""
             }
            },
            "type": "scatterpolargl"
           }
          ],
          "scatterternary": [
           {
            "marker": {
             "colorbar": {
              "outlinewidth": 0,
              "ticks": ""
             }
            },
            "type": "scatterternary"
           }
          ],
          "surface": [
           {
            "colorbar": {
             "outlinewidth": 0,
             "ticks": ""
            },
            "colorscale": [
             [
              0,
              "#0d0887"
             ],
             [
              0.1111111111111111,
              "#46039f"
             ],
             [
              0.2222222222222222,
              "#7201a8"
             ],
             [
              0.3333333333333333,
              "#9c179e"
             ],
             [
              0.4444444444444444,
              "#bd3786"
             ],
             [
              0.5555555555555556,
              "#d8576b"
             ],
             [
              0.6666666666666666,
              "#ed7953"
             ],
             [
              0.7777777777777778,
              "#fb9f3a"
             ],
             [
              0.8888888888888888,
              "#fdca26"
             ],
             [
              1,
              "#f0f921"
             ]
            ],
            "type": "surface"
           }
          ],
          "table": [
           {
            "cells": {
             "fill": {
              "color": "#506784"
             },
             "line": {
              "color": "rgb(17,17,17)"
             }
            },
            "header": {
             "fill": {
              "color": "#2a3f5f"
             },
             "line": {
              "color": "rgb(17,17,17)"
             }
            },
            "type": "table"
           }
          ]
         },
         "layout": {
          "annotationdefaults": {
           "arrowcolor": "#f2f5fa",
           "arrowhead": 0,
           "arrowwidth": 1
          },
          "autotypenumbers": "strict",
          "coloraxis": {
           "colorbar": {
            "outlinewidth": 0,
            "ticks": ""
           }
          },
          "colorscale": {
           "diverging": [
            [
             0,
             "#8e0152"
            ],
            [
             0.1,
             "#c51b7d"
            ],
            [
             0.2,
             "#de77ae"
            ],
            [
             0.3,
             "#f1b6da"
            ],
            [
             0.4,
             "#fde0ef"
            ],
            [
             0.5,
             "#f7f7f7"
            ],
            [
             0.6,
             "#e6f5d0"
            ],
            [
             0.7,
             "#b8e186"
            ],
            [
             0.8,
             "#7fbc41"
            ],
            [
             0.9,
             "#4d9221"
            ],
            [
             1,
             "#276419"
            ]
           ],
           "sequential": [
            [
             0,
             "#0d0887"
            ],
            [
             0.1111111111111111,
             "#46039f"
            ],
            [
             0.2222222222222222,
             "#7201a8"
            ],
            [
             0.3333333333333333,
             "#9c179e"
            ],
            [
             0.4444444444444444,
             "#bd3786"
            ],
            [
             0.5555555555555556,
             "#d8576b"
            ],
            [
             0.6666666666666666,
             "#ed7953"
            ],
            [
             0.7777777777777778,
             "#fb9f3a"
            ],
            [
             0.8888888888888888,
             "#fdca26"
            ],
            [
             1,
             "#f0f921"
            ]
           ],
           "sequentialminus": [
            [
             0,
             "#0d0887"
            ],
            [
             0.1111111111111111,
             "#46039f"
            ],
            [
             0.2222222222222222,
             "#7201a8"
            ],
            [
             0.3333333333333333,
             "#9c179e"
            ],
            [
             0.4444444444444444,
             "#bd3786"
            ],
            [
             0.5555555555555556,
             "#d8576b"
            ],
            [
             0.6666666666666666,
             "#ed7953"
            ],
            [
             0.7777777777777778,
             "#fb9f3a"
            ],
            [
             0.8888888888888888,
             "#fdca26"
            ],
            [
             1,
             "#f0f921"
            ]
           ]
          },
          "colorway": [
           "#636efa",
           "#EF553B",
           "#00cc96",
           "#ab63fa",
           "#FFA15A",
           "#19d3f3",
           "#FF6692",
           "#B6E880",
           "#FF97FF",
           "#FECB52"
          ],
          "font": {
           "color": "#f2f5fa"
          },
          "geo": {
           "bgcolor": "rgb(17,17,17)",
           "lakecolor": "rgb(17,17,17)",
           "landcolor": "rgb(17,17,17)",
           "showlakes": true,
           "showland": true,
           "subunitcolor": "#506784"
          },
          "hoverlabel": {
           "align": "left"
          },
          "hovermode": "closest",
          "mapbox": {
           "style": "dark"
          },
          "paper_bgcolor": "rgb(17,17,17)",
          "plot_bgcolor": "rgb(17,17,17)",
          "polar": {
           "angularaxis": {
            "gridcolor": "#506784",
            "linecolor": "#506784",
            "ticks": ""
           },
           "bgcolor": "rgb(17,17,17)",
           "radialaxis": {
            "gridcolor": "#506784",
            "linecolor": "#506784",
            "ticks": ""
           }
          },
          "scene": {
           "xaxis": {
            "backgroundcolor": "rgb(17,17,17)",
            "gridcolor": "#506784",
            "gridwidth": 2,
            "linecolor": "#506784",
            "showbackground": true,
            "ticks": "",
            "zerolinecolor": "#C8D4E3"
           },
           "yaxis": {
            "backgroundcolor": "rgb(17,17,17)",
            "gridcolor": "#506784",
            "gridwidth": 2,
            "linecolor": "#506784",
            "showbackground": true,
            "ticks": "",
            "zerolinecolor": "#C8D4E3"
           },
           "zaxis": {
            "backgroundcolor": "rgb(17,17,17)",
            "gridcolor": "#506784",
            "gridwidth": 2,
            "linecolor": "#506784",
            "showbackground": true,
            "ticks": "",
            "zerolinecolor": "#C8D4E3"
           }
          },
          "shapedefaults": {
           "line": {
            "color": "#f2f5fa"
           }
          },
          "sliderdefaults": {
           "bgcolor": "#C8D4E3",
           "bordercolor": "rgb(17,17,17)",
           "borderwidth": 1,
           "tickwidth": 0
          },
          "ternary": {
           "aaxis": {
            "gridcolor": "#506784",
            "linecolor": "#506784",
            "ticks": ""
           },
           "baxis": {
            "gridcolor": "#506784",
            "linecolor": "#506784",
            "ticks": ""
           },
           "bgcolor": "rgb(17,17,17)",
           "caxis": {
            "gridcolor": "#506784",
            "linecolor": "#506784",
            "ticks": ""
           }
          },
          "title": {
           "x": 0.05
          },
          "updatemenudefaults": {
           "bgcolor": "#506784",
           "borderwidth": 0
          },
          "xaxis": {
           "automargin": true,
           "gridcolor": "#283442",
           "linecolor": "#506784",
           "ticks": "",
           "title": {
            "standoff": 15
           },
           "zerolinecolor": "#283442",
           "zerolinewidth": 2
          },
          "yaxis": {
           "automargin": true,
           "gridcolor": "#283442",
           "linecolor": "#506784",
           "ticks": "",
           "title": {
            "standoff": 15
           },
           "zerolinecolor": "#283442",
           "zerolinewidth": 2
          }
         }
        },
        "title": {
         "text": "Most Influencial Repository in Github : ML/DL/AI"
        },
        "xaxis": {
         "anchor": "y",
         "autorange": true,
         "domain": [
          0,
          1
         ],
         "range": [
          0,
          0.7612160736231621
         ],
         "title": {
          "text": "Influence Score (0 to 1)"
         },
         "type": "linear"
        },
        "yaxis": {
         "anchor": "x",
         "autorange": true,
         "domain": [
          0,
          1
         ],
         "range": [
          -0.5,
          19.5
         ],
         "title": {
          "text": "Owner and Repository"
         },
         "type": "category"
        }
       }
      },
      "image/png": "[encoded data removed]",
      "text/html": [
       "<div>                            <div id=\"06299f4b-9d1f-4515-b1d4-c81a654afbb6\" class=\"plotly-graph-div\" style=\"height:600px; width:100%;\"></div>            <script type=\"text/javascript\">                require([\"plotly\"], function(Plotly) {                    window.PLOTLYENV=window.PLOTLYENV || {};                                    if (document.getElementById(\"06299f4b-9d1f-4515-b1d4-c81a654afbb6\")) {                    Plotly.newPlot(                        \"06299f4b-9d1f-4515-b1d4-c81a654afbb6\",                        [{\"alignmentgroup\":\"True\",\"hovertemplate\":\"Influence_Score=%{x}<br>Owner_Repo=%{y}<extra></extra>\",\"legendgroup\":\"\",\"marker\":{\"color\":\"#636efa\",\"pattern\":{\"shape\":\"\"}},\"name\":\"\",\"offsetgroup\":\"\",\"orientation\":\"h\",\"showlegend\":false,\"textposition\":\"auto\",\"type\":\"bar\",\"x\":[0.506508225034551,0.5084774808414363,0.5126238316843864,0.5158027821122345,0.5339581290021814,0.5359401261000087,0.5366987044365007,0.5368572193562208,0.5406475436335202,0.5506053207511922,0.5553436067270864,0.5562816382006305,0.5571759637770607,0.5679673467416501,0.5781994985307001,0.5973012763002731,0.5992185481174364,0.6280240684785967,0.6351022617448522,0.7231552699420041],\"xaxis\":\"x\",\"y\":[\"Eclipse/deeplearning4j\",\"Exacity/deeplearningbook-chinese\",\"tesseract-ocr/tesseract\",\"Xitu/gold-miner\",\"Explosion.ai/spaCy\",\"Datawhale/pumpkin-book\",\"Berkeley Vision and Learning Center/caffe\",\"Facebook/pytorch\",\"PaddlePaddle/Paddle\",\"fast.ai/fastbook\",\"Distributed Machine Learning Community/xgboost\",\"nndl/nndl.github.io\",\"OpenCV/opencv\",\"fast.ai/fastai\",\"TensorFlow/tensorflow\",\"Keras (MIT)/keras\",\"Alphabet/google-research\",\"Dive into Deep Learning/d2l-zh\",\"scikit-learn/scikit-learn\",\"Sony/nnabla\"],\"yaxis\":\"y\"}],                        {\"barmode\":\"relative\",\"height\":600,\"legend\":{\"tracegroupgap\":0},\"template\":{\"data\":{\"bar\":[{\"error_x\":{\"color\":\"#f2f5fa\"},\"error_y\":{\"color\":\"#f2f5fa\"},\"marker\":{\"line\":{\"color\":\"rgb(17,17,17)\",\"width\":0.5},\"pattern\":{\"fillmode\":\"overlay\",\"size\":10,\"solidity\":0.2}},\"type\":\"bar\"}],\"barpolar\":[{\"marker\":{\"line\":{\"color\":\"rgb(17,17,17)\",\"width\":0.5},\"pattern\":{\"fillmode\":\"overlay\",\"size\":10,\"solidity\":0.2}},\"type\":\"barpolar\"}],\"carpet\":[{\"aaxis\":{\"endlinecolor\":\"#A2B1C6\",\"gridcolor\":\"#506784\",\"linecolor\":\"#506784\",\"minorgridcolor\":\"#506784\",\"startlinecolor\":\"#A2B1C6\"},\"baxis\":{\"endlinecolor\":\"#A2B1C6\",\"gridcolor\":\"#506784\",\"linecolor\":\"#506784\",\"minorgridcolor\":\"#506784\",\"startlinecolor\":\"#A2B1C6\"},\"type\":\"carpet\"}],\"choropleth\":[{\"colorbar\":{\"outlinewidth\":0,\"ticks\":\"\"},\"type\":\"choropleth\"}],\"contour\":[{\"colorbar\":{\"outlinewidth\":0,\"ticks\":\"\"},\"colorscale\":[[0.0,\"#0d0887\"],[0.1111111111111111,\"#46039f\"],[0.2222222222222222,\"#7201a8\"],[0.3333333333333333,\"#9c179e\"],[0.4444444444444444,\"#bd3786\"],[0.5555555555555556,\"#d8576b\"],[0.6666666666666666,\"#ed7953\"],[0.7777777777777778,\"#fb9f3a\"],[0.8888888888888888,\"#fdca26\"],[1.0,\"#f0f921\"]],\"type\":\"contour\"}],\"contourcarpet\":[{\"colorbar\":{\"outlinewidth\":0,\"ticks\":\"\"},\"type\":\"contourcarpet\"}],\"heatmap\":[{\"colorbar\":{\"outlinewidth\":0,\"ticks\":\"\"},\"colorscale\":[[0.0,\"#0d0887\"],[0.1111111111111111,\"#46039f\"],[0.2222222222222222,\"#7201a8\"],[0.3333333333333333,\"#9c179e\"],[0.4444444444444444,\"#bd3786\"],[0.5555555555555556,\"#d8576b\"],[0.6666666666666666,\"#ed7953\"],[0.7777777777777778,\"#fb9f3a\"],[0.8888888888888888,\"#fdca26\"],[1.0,\"#f0f921\"]],\"type\":\"heatmap\"}],\"heatmapgl\":[{\"colorbar\":{\"outlinewidth\":0,\"ticks\":\"\"},\"colorscale\":[[0.0,\"#0d0887\"],[0.1111111111111111,\"#46039f\"],[0.2222222222222222,\"#7201a8\"],[0.3333333333333333,\"#9c179e\"],[0.4444444444444444,\"#bd3786\"],[0.5555555555555556,\"#d8576b\"],[0.6666666666666666,\"#ed7953\"],[0.7777777777777778,\"#fb9f3a\"],[0.8888888888888888,\"#fdca26\"],[1.0,\"#f0f921\"]],\"type\":\"heatmapgl\"}],\"histogram\":[{\"marker\":{\"pattern\":{\"fillmode\":\"overlay\",\"size\":10,\"solidity\":0.2}},\"type\":\"histogram\"}],\"histogram2d\":[{\"colorbar\":{\"outlinewidth\":0,\"ticks\":\"\"},\"colorscale\":[[0.0,\"#0d0887\"],[0.1111111111111111,\"#46039f\"],[0.2222222222222222,\"#7201a8\"],[0.3333333333333333,\"#9c179e\"],[0.4444444444444444,\"#bd3786\"],[0.5555555555555556,\"#d8576b\"],[0.6666666666666666,\"#ed7953\"],[0.7777777777777778,\"#fb9f3a\"],[0.8888888888888888,\"#fdca26\"],[1.0,\"#f0f921\"]],\"type\":\"histogram2d\"}],\"histogram2dcontour\":[{\"colorbar\":{\"outlinewidth\":0,\"ticks\":\"\"},\"colorscale\":[[0.0,\"#0d0887\"],[0.1111111111111111,\"#46039f\"],[0.2222222222222222,\"#7201a8\"],[0.3333333333333333,\"#9c179e\"],[0.4444444444444444,\"#bd3786\"],[0.5555555555555556,\"#d8576b\"],[0.6666666666666666,\"#ed7953\"],[0.7777777777777778,\"#fb9f3a\"],[0.8888888888888888,\"#fdca26\"],[1.0,\"#f0f921\"]],\"type\":\"histogram2dcontour\"}],\"mesh3d\":[{\"colorbar\":{\"outlinewidth\":0,\"ticks\":\"\"},\"type\":\"mesh3d\"}],\"parcoords\":[{\"line\":{\"colorbar\":{\"outlinewidth\":0,\"ticks\":\"\"}},\"type\":\"parcoords\"}],\"pie\":[{\"automargin\":true,\"type\":\"pie\"}],\"scatter\":[{\"marker\":{\"line\":{\"color\":\"#283442\"}},\"type\":\"scatter\"}],\"scatter3d\":[{\"line\":{\"colorbar\":{\"outlinewidth\":0,\"ticks\":\"\"}},\"marker\":{\"colorbar\":{\"outlinewidth\":0,\"ticks\":\"\"}},\"type\":\"scatter3d\"}],\"scattercarpet\":[{\"marker\":{\"colorbar\":{\"outlinewidth\":0,\"ticks\":\"\"}},\"type\":\"scattercarpet\"}],\"scattergeo\":[{\"marker\":{\"colorbar\":{\"outlinewidth\":0,\"ticks\":\"\"}},\"type\":\"scattergeo\"}],\"scattergl\":[{\"marker\":{\"line\":{\"color\":\"#283442\"}},\"type\":\"scattergl\"}],\"scattermapbox\":[{\"marker\":{\"colorbar\":{\"outlinewidth\":0,\"ticks\":\"\"}},\"type\":\"scattermapbox\"}],\"scatterpolar\":[{\"marker\":{\"colorbar\":{\"outlinewidth\":0,\"ticks\":\"\"}},\"type\":\"scatterpolar\"}],\"scatterpolargl\":[{\"marker\":{\"colorbar\":{\"outlinewidth\":0,\"ticks\":\"\"}},\"type\":\"scatterpolargl\"}],\"scatterternary\":[{\"marker\":{\"colorbar\":{\"outlinewidth\":0,\"ticks\":\"\"}},\"type\":\"scatterternary\"}],\"surface\":[{\"colorbar\":{\"outlinewidth\":0,\"ticks\":\"\"},\"colorscale\":[[0.0,\"#0d0887\"],[0.1111111111111111,\"#46039f\"],[0.2222222222222222,\"#7201a8\"],[0.3333333333333333,\"#9c179e\"],[0.4444444444444444,\"#bd3786\"],[0.5555555555555556,\"#d8576b\"],[0.6666666666666666,\"#ed7953\"],[0.7777777777777778,\"#fb9f3a\"],[0.8888888888888888,\"#fdca26\"],[1.0,\"#f0f921\"]],\"type\":\"surface\"}],\"table\":[{\"cells\":{\"fill\":{\"color\":\"#506784\"},\"line\":{\"color\":\"rgb(17,17,17)\"}},\"header\":{\"fill\":{\"color\":\"#2a3f5f\"},\"line\":{\"color\":\"rgb(17,17,17)\"}},\"type\":\"table\"}]},\"layout\":{\"annotationdefaults\":{\"arrowcolor\":\"#f2f5fa\",\"arrowhead\":0,\"arrowwidth\":1},\"autotypenumbers\":\"strict\",\"coloraxis\":{\"colorbar\":{\"outlinewidth\":0,\"ticks\":\"\"}},\"colorscale\":{\"diverging\":[[0,\"#8e0152\"],[0.1,\"#c51b7d\"],[0.2,\"#de77ae\"],[0.3,\"#f1b6da\"],[0.4,\"#fde0ef\"],[0.5,\"#f7f7f7\"],[0.6,\"#e6f5d0\"],[0.7,\"#b8e186\"],[0.8,\"#7fbc41\"],[0.9,\"#4d9221\"],[1,\"#276419\"]],\"sequential\":[[0.0,\"#0d0887\"],[0.1111111111111111,\"#46039f\"],[0.2222222222222222,\"#7201a8\"],[0.3333333333333333,\"#9c179e\"],[0.4444444444444444,\"#bd3786\"],[0.5555555555555556,\"#d8576b\"],[0.6666666666666666,\"#ed7953\"],[0.7777777777777778,\"#fb9f3a\"],[0.8888888888888888,\"#fdca26\"],[1.0,\"#f0f921\"]],\"sequentialminus\":[[0.0,\"#0d0887\"],[0.1111111111111111,\"#46039f\"],[0.2222222222222222,\"#7201a8\"],[0.3333333333333333,\"#9c179e\"],[0.4444444444444444,\"#bd3786\"],[0.5555555555555556,\"#d8576b\"],[0.6666666666666666,\"#ed7953\"],[0.7777777777777778,\"#fb9f3a\"],[0.8888888888888888,\"#fdca26\"],[1.0,\"#f0f921\"]]},\"colorway\":[\"#636efa\",\"#EF553B\",\"#00cc96\",\"#ab63fa\",\"#FFA15A\",\"#19d3f3\",\"#FF6692\",\"#B6E880\",\"#FF97FF\",\"#FECB52\"],\"font\":{\"color\":\"#f2f5fa\"},\"geo\":{\"bgcolor\":\"rgb(17,17,17)\",\"lakecolor\":\"rgb(17,17,17)\",\"landcolor\":\"rgb(17,17,17)\",\"showlakes\":true,\"showland\":true,\"subunitcolor\":\"#506784\"},\"hoverlabel\":{\"align\":\"left\"},\"hovermode\":\"closest\",\"mapbox\":{\"style\":\"dark\"},\"paper_bgcolor\":\"rgb(17,17,17)\",\"plot_bgcolor\":\"rgb(17,17,17)\",\"polar\":{\"angularaxis\":{\"gridcolor\":\"#506784\",\"linecolor\":\"#506784\",\"ticks\":\"\"},\"bgcolor\":\"rgb(17,17,17)\",\"radialaxis\":{\"gridcolor\":\"#506784\",\"linecolor\":\"#506784\",\"ticks\":\"\"}},\"scene\":{\"xaxis\":{\"backgroundcolor\":\"rgb(17,17,17)\",\"gridcolor\":\"#506784\",\"gridwidth\":2,\"linecolor\":\"#506784\",\"showbackground\":true,\"ticks\":\"\",\"zerolinecolor\":\"#C8D4E3\"},\"yaxis\":{\"backgroundcolor\":\"rgb(17,17,17)\",\"gridcolor\":\"#506784\",\"gridwidth\":2,\"linecolor\":\"#506784\",\"showbackground\":true,\"ticks\":\"\",\"zerolinecolor\":\"#C8D4E3\"},\"zaxis\":{\"backgroundcolor\":\"rgb(17,17,17)\",\"gridcolor\":\"#506784\",\"gridwidth\":2,\"linecolor\":\"#506784\",\"showbackground\":true,\"ticks\":\"\",\"zerolinecolor\":\"#C8D4E3\"}},\"shapedefaults\":{\"line\":{\"color\":\"#f2f5fa\"}},\"sliderdefaults\":{\"bgcolor\":\"#C8D4E3\",\"bordercolor\":\"rgb(17,17,17)\",\"borderwidth\":1,\"tickwidth\":0},\"ternary\":{\"aaxis\":{\"gridcolor\":\"#506784\",\"linecolor\":\"#506784\",\"ticks\":\"\"},\"baxis\":{\"gridcolor\":\"#506784\",\"linecolor\":\"#506784\",\"ticks\":\"\"},\"bgcolor\":\"rgb(17,17,17)\",\"caxis\":{\"gridcolor\":\"#506784\",\"linecolor\":\"#506784\",\"ticks\":\"\"}},\"title\":{\"x\":0.05},\"updatemenudefaults\":{\"bgcolor\":\"#506784\",\"borderwidth\":0},\"xaxis\":{\"automargin\":true,\"gridcolor\":\"#283442\",\"linecolor\":\"#506784\",\"ticks\":\"\",\"title\":{\"standoff\":15},\"zerolinecolor\":\"#283442\",\"zerolinewidth\":2},\"yaxis\":{\"automargin\":true,\"gridcolor\":\"#283442\",\"linecolor\":\"#506784\",\"ticks\":\"\",\"title\":{\"standoff\":15},\"zerolinecolor\":\"#283442\",\"zerolinewidth\":2}}},\"title\":{\"text\":\"Most Influencial Repository in Github : ML/DL/AI\"},\"xaxis\":{\"anchor\":\"y\",\"domain\":[0.0,1.0],\"title\":{\"text\":\"Influence Score (0 to 1)\"}},\"yaxis\":{\"anchor\":\"x\",\"domain\":[0.0,1.0],\"title\":{\"text\":\"Owner and Repository\"}}},                        {\"responsive\": true}                    ).then(function(){\n",
       "                            \n",
       "var gd = document.getElementById('06299f4b-9d1f-4515-b1d4-c81a654afbb6');\n",
       "var x = new MutationObserver(function (mutations, observer) {{\n",
       "        var display = window.getComputedStyle(gd).display;\n",
       "        if (!display || display === 'none') {{\n",
       "            console.log([gd, 'removed!']);\n",
       "            Plotly.purge(gd);\n",
       "            observer.disconnect();\n",
       "        }}\n",
       "}});\n",
       "\n",
       "// Listen for the removal of the full notebook cells\n",
       "var notebookContainer = gd.closest('#notebook-container');\n",
       "if (notebookContainer) {{\n",
       "    x.observe(notebookContainer, {childList: true});\n",
       "}}\n",
       "\n",
       "// Listen for the clearing of the current output cell\n",
       "var outputEl = gd.closest('.output');\n",
       "if (outputEl) {{\n",
       "    x.observe(outputEl, {childList: true});\n",
       "}}\n",
       "\n",
       "                        })                };                });            </script>        </div>"
      ]
     },
     "metadata": {},
     "output_type": "display_data"
    }
   ],
   "source": [
    "# vertical bar chart for top 20 repo\n",
    "fig = px.bar(df_repo_influence.sort_values(by = 'Influence_Score', ascending = True),\n",
    "            x='Influence_Score',\n",
    "            y='Owner_Repo',\n",
    "            orientation='h',\n",
    "            title='Most Influencial Repository in Github : ML/DL/AI',\n",
    "            height = 600,\n",
    "            template = 'plotly_dark')\n",
    "fig.update_yaxes(title = 'Owner and Repository')\n",
    "fig.update_xaxes(title = 'Influence Score (0 to 1)')\n",
    "fig.show()"
   ]
  },
  {
   "cell_type": "code",
   "execution_count": 79,
   "id": "0221eb2a",
   "metadata": {
    "slideshow": {
     "slide_type": "subslide"
    }
   },
   "outputs": [
    {
     "data": {
      "text/html": [
       "<div>\n",
       "<style scoped>\n",
       "    .dataframe tbody tr th:only-of-type {\n",
       "        vertical-align: middle;\n",
       "    }\n",
       "\n",
       "    .dataframe tbody tr th {\n",
       "        vertical-align: top;\n",
       "    }\n",
       "\n",
       "    .dataframe thead th {\n",
       "        text-align: right;\n",
       "    }\n",
       "</style>\n",
       "<table border=\"1\" class=\"dataframe\">\n",
       "  <thead>\n",
       "    <tr style=\"text-align: right;\">\n",
       "      <th></th>\n",
       "      <th>Owner</th>\n",
       "      <th>CountNorm</th>\n",
       "    </tr>\n",
       "  </thead>\n",
       "  <tbody>\n",
       "    <tr>\n",
       "      <th>0</th>\n",
       "      <td>Alphabet</td>\n",
       "      <td>1.000000</td>\n",
       "    </tr>\n",
       "    <tr>\n",
       "      <th>1</th>\n",
       "      <td>Microsoft</td>\n",
       "      <td>0.893617</td>\n",
       "    </tr>\n",
       "    <tr>\n",
       "      <th>2</th>\n",
       "      <td>Facebook</td>\n",
       "      <td>0.680851</td>\n",
       "    </tr>\n",
       "    <tr>\n",
       "      <th>3</th>\n",
       "      <td>FOSSASIA</td>\n",
       "      <td>0.638298</td>\n",
       "    </tr>\n",
       "    <tr>\n",
       "      <th>4</th>\n",
       "      <td>TensorFlow</td>\n",
       "      <td>0.574468</td>\n",
       "    </tr>\n",
       "    <tr>\n",
       "      <th>5</th>\n",
       "      <td>NVIDIA</td>\n",
       "      <td>0.382979</td>\n",
       "    </tr>\n",
       "    <tr>\n",
       "      <th>6</th>\n",
       "      <td>Intel</td>\n",
       "      <td>0.361702</td>\n",
       "    </tr>\n",
       "    <tr>\n",
       "      <th>7</th>\n",
       "      <td>Amazon</td>\n",
       "      <td>0.255319</td>\n",
       "    </tr>\n",
       "    <tr>\n",
       "      <th>8</th>\n",
       "      <td>Tencent</td>\n",
       "      <td>0.212766</td>\n",
       "    </tr>\n",
       "    <tr>\n",
       "      <th>9</th>\n",
       "      <td>aio-libs</td>\n",
       "      <td>0.170213</td>\n",
       "    </tr>\n",
       "  </tbody>\n",
       "</table>\n",
       "</div>"
      ],
      "text/plain": [
       "        Owner  CountNorm\n",
       "0    Alphabet   1.000000\n",
       "1   Microsoft   0.893617\n",
       "2    Facebook   0.680851\n",
       "3    FOSSASIA   0.638298\n",
       "4  TensorFlow   0.574468\n",
       "5      NVIDIA   0.382979\n",
       "6       Intel   0.361702\n",
       "7      Amazon   0.255319\n",
       "8     Tencent   0.212766\n",
       "9    aio-libs   0.170213"
      ]
     },
     "execution_count": 79,
     "metadata": {},
     "output_type": "execute_result"
    }
   ],
   "source": [
    "df_unique_owner['CountNorm'] = df_norm(df_unique_owner, 'Count')\n",
    "df_unique_owner = df_unique_owner.drop(columns = ['Count'])\n",
    "df_unique_owner.head(10)"
   ]
  },
  {
   "cell_type": "code",
   "execution_count": 86,
   "id": "5ad6afc1",
   "metadata": {
    "slideshow": {
     "slide_type": "subslide"
    }
   },
   "outputs": [
    {
     "data": {
      "text/html": [
       "<div>\n",
       "<style scoped>\n",
       "    .dataframe tbody tr th:only-of-type {\n",
       "        vertical-align: middle;\n",
       "    }\n",
       "\n",
       "    .dataframe tbody tr th {\n",
       "        vertical-align: top;\n",
       "    }\n",
       "\n",
       "    .dataframe thead th {\n",
       "        text-align: right;\n",
       "    }\n",
       "</style>\n",
       "<table border=\"1\" class=\"dataframe\">\n",
       "  <thead>\n",
       "    <tr style=\"text-align: right;\">\n",
       "      <th></th>\n",
       "      <th>Owner</th>\n",
       "      <th>StarNorm</th>\n",
       "      <th>ForkNorm</th>\n",
       "      <th>WatcherNorm</th>\n",
       "      <th>PageRankNorm</th>\n",
       "      <th>BetweennessNorm</th>\n",
       "      <th>InDegreeNorm</th>\n",
       "      <th>CountNorm</th>\n",
       "      <th>Influence_Score</th>\n",
       "    </tr>\n",
       "  </thead>\n",
       "  <tbody>\n",
       "    <tr>\n",
       "      <th>1</th>\n",
       "      <td>scikit-learn</td>\n",
       "      <td>1.000000</td>\n",
       "      <td>1.000000</td>\n",
       "      <td>1.000000</td>\n",
       "      <td>0.459746</td>\n",
       "      <td>0.017534</td>\n",
       "      <td>0.333333</td>\n",
       "      <td>0.000000</td>\n",
       "      <td>0.691949</td>\n",
       "    </tr>\n",
       "    <tr>\n",
       "      <th>2</th>\n",
       "      <td>OpenCV</td>\n",
       "      <td>1.000000</td>\n",
       "      <td>1.000000</td>\n",
       "      <td>1.000000</td>\n",
       "      <td>0.148611</td>\n",
       "      <td>0.000000</td>\n",
       "      <td>0.194444</td>\n",
       "      <td>0.000000</td>\n",
       "      <td>0.629722</td>\n",
       "    </tr>\n",
       "    <tr>\n",
       "      <th>6</th>\n",
       "      <td>tesseract-ocr</td>\n",
       "      <td>1.000000</td>\n",
       "      <td>0.996284</td>\n",
       "      <td>1.000000</td>\n",
       "      <td>0.079459</td>\n",
       "      <td>0.000000</td>\n",
       "      <td>0.000000</td>\n",
       "      <td>0.000000</td>\n",
       "      <td>0.615149</td>\n",
       "    </tr>\n",
       "    <tr>\n",
       "      <th>4</th>\n",
       "      <td>Berkeley Vision and Learning Center</td>\n",
       "      <td>1.000000</td>\n",
       "      <td>1.000000</td>\n",
       "      <td>1.000000</td>\n",
       "      <td>0.005879</td>\n",
       "      <td>0.075424</td>\n",
       "      <td>0.138889</td>\n",
       "      <td>0.000000</td>\n",
       "      <td>0.601176</td>\n",
       "    </tr>\n",
       "    <tr>\n",
       "      <th>7</th>\n",
       "      <td>JuliaLang</td>\n",
       "      <td>1.000000</td>\n",
       "      <td>0.933726</td>\n",
       "      <td>0.996962</td>\n",
       "      <td>0.015721</td>\n",
       "      <td>0.000000</td>\n",
       "      <td>0.000000</td>\n",
       "      <td>0.000000</td>\n",
       "      <td>0.589282</td>\n",
       "    </tr>\n",
       "    <tr>\n",
       "      <th>3</th>\n",
       "      <td>nndl</td>\n",
       "      <td>0.977181</td>\n",
       "      <td>0.841445</td>\n",
       "      <td>0.976751</td>\n",
       "      <td>0.123737</td>\n",
       "      <td>0.001908</td>\n",
       "      <td>0.416667</td>\n",
       "      <td>0.000000</td>\n",
       "      <td>0.583823</td>\n",
       "    </tr>\n",
       "    <tr>\n",
       "      <th>8</th>\n",
       "      <td>oxford-cs-deepnlp-2017</td>\n",
       "      <td>0.981938</td>\n",
       "      <td>0.875386</td>\n",
       "      <td>0.999861</td>\n",
       "      <td>0.000000</td>\n",
       "      <td>0.000000</td>\n",
       "      <td>0.027778</td>\n",
       "      <td>0.000000</td>\n",
       "      <td>0.571437</td>\n",
       "    </tr>\n",
       "    <tr>\n",
       "      <th>5</th>\n",
       "      <td>Dive into Deep Learning</td>\n",
       "      <td>0.946423</td>\n",
       "      <td>0.860524</td>\n",
       "      <td>0.853678</td>\n",
       "      <td>0.147045</td>\n",
       "      <td>0.016902</td>\n",
       "      <td>0.361111</td>\n",
       "      <td>0.021277</td>\n",
       "      <td>0.565789</td>\n",
       "    </tr>\n",
       "    <tr>\n",
       "      <th>12</th>\n",
       "      <td>RARE Technologies</td>\n",
       "      <td>0.945063</td>\n",
       "      <td>0.906650</td>\n",
       "      <td>0.825768</td>\n",
       "      <td>0.023582</td>\n",
       "      <td>0.000000</td>\n",
       "      <td>0.000000</td>\n",
       "      <td>0.000000</td>\n",
       "      <td>0.540213</td>\n",
       "    </tr>\n",
       "    <tr>\n",
       "      <th>13</th>\n",
       "      <td>The Algorithms</td>\n",
       "      <td>0.918981</td>\n",
       "      <td>0.825827</td>\n",
       "      <td>0.843823</td>\n",
       "      <td>0.023582</td>\n",
       "      <td>0.000417</td>\n",
       "      <td>0.013889</td>\n",
       "      <td>0.021277</td>\n",
       "      <td>0.526698</td>\n",
       "    </tr>\n",
       "    <tr>\n",
       "      <th>77</th>\n",
       "      <td>Microsoft</td>\n",
       "      <td>0.538831</td>\n",
       "      <td>0.514682</td>\n",
       "      <td>0.551328</td>\n",
       "      <td>0.109896</td>\n",
       "      <td>0.014423</td>\n",
       "      <td>0.071685</td>\n",
       "      <td>0.893617</td>\n",
       "      <td>0.521671</td>\n",
       "    </tr>\n",
       "    <tr>\n",
       "      <th>14</th>\n",
       "      <td>Ray Project</td>\n",
       "      <td>0.989798</td>\n",
       "      <td>0.782264</td>\n",
       "      <td>0.809169</td>\n",
       "      <td>0.011791</td>\n",
       "      <td>0.000000</td>\n",
       "      <td>0.000000</td>\n",
       "      <td>0.000000</td>\n",
       "      <td>0.518605</td>\n",
       "    </tr>\n",
       "    <tr>\n",
       "      <th>103</th>\n",
       "      <td>Alphabet</td>\n",
       "      <td>0.502673</td>\n",
       "      <td>0.481165</td>\n",
       "      <td>0.510940</td>\n",
       "      <td>0.054587</td>\n",
       "      <td>0.011365</td>\n",
       "      <td>0.073045</td>\n",
       "      <td>1.000000</td>\n",
       "      <td>0.509873</td>\n",
       "    </tr>\n",
       "    <tr>\n",
       "      <th>15</th>\n",
       "      <td>Project Naptha</td>\n",
       "      <td>0.999871</td>\n",
       "      <td>0.634297</td>\n",
       "      <td>0.862023</td>\n",
       "      <td>0.037994</td>\n",
       "      <td>0.003340</td>\n",
       "      <td>0.027778</td>\n",
       "      <td>0.000000</td>\n",
       "      <td>0.506837</td>\n",
       "    </tr>\n",
       "    <tr>\n",
       "      <th>16</th>\n",
       "      <td>AMAI-GmbH</td>\n",
       "      <td>0.959827</td>\n",
       "      <td>0.550287</td>\n",
       "      <td>0.966304</td>\n",
       "      <td>0.047164</td>\n",
       "      <td>0.000000</td>\n",
       "      <td>0.000000</td>\n",
       "      <td>0.000000</td>\n",
       "      <td>0.504717</td>\n",
       "    </tr>\n",
       "    <tr>\n",
       "      <th>17</th>\n",
       "      <td>Natural Language Toolkit</td>\n",
       "      <td>0.886855</td>\n",
       "      <td>0.755496</td>\n",
       "      <td>0.871262</td>\n",
       "      <td>0.000000</td>\n",
       "      <td>0.000000</td>\n",
       "      <td>0.000000</td>\n",
       "      <td>0.000000</td>\n",
       "      <td>0.502723</td>\n",
       "    </tr>\n",
       "    <tr>\n",
       "      <th>23</th>\n",
       "      <td>fast.ai</td>\n",
       "      <td>0.692927</td>\n",
       "      <td>0.758617</td>\n",
       "      <td>0.677027</td>\n",
       "      <td>0.195970</td>\n",
       "      <td>0.005666</td>\n",
       "      <td>0.051587</td>\n",
       "      <td>0.127660</td>\n",
       "      <td>0.490440</td>\n",
       "    </tr>\n",
       "    <tr>\n",
       "      <th>18</th>\n",
       "      <td>Apache</td>\n",
       "      <td>0.731105</td>\n",
       "      <td>0.723517</td>\n",
       "      <td>0.737013</td>\n",
       "      <td>0.173016</td>\n",
       "      <td>0.000000</td>\n",
       "      <td>0.129630</td>\n",
       "      <td>0.085106</td>\n",
       "      <td>0.489951</td>\n",
       "    </tr>\n",
       "    <tr>\n",
       "      <th>19</th>\n",
       "      <td>Xitu</td>\n",
       "      <td>0.776325</td>\n",
       "      <td>0.697213</td>\n",
       "      <td>0.767020</td>\n",
       "      <td>0.171402</td>\n",
       "      <td>0.000000</td>\n",
       "      <td>0.055556</td>\n",
       "      <td>0.021277</td>\n",
       "      <td>0.486648</td>\n",
       "    </tr>\n",
       "    <tr>\n",
       "      <th>9</th>\n",
       "      <td>Horovod</td>\n",
       "      <td>0.926698</td>\n",
       "      <td>0.667445</td>\n",
       "      <td>0.730391</td>\n",
       "      <td>0.107388</td>\n",
       "      <td>0.196215</td>\n",
       "      <td>0.222222</td>\n",
       "      <td>0.000000</td>\n",
       "      <td>0.486384</td>\n",
       "    </tr>\n",
       "  </tbody>\n",
       "</table>\n",
       "</div>"
      ],
      "text/plain": [
       "                                   Owner  StarNorm  ForkNorm  WatcherNorm  \\\n",
       "1                           scikit-learn  1.000000  1.000000     1.000000   \n",
       "2                                 OpenCV  1.000000  1.000000     1.000000   \n",
       "6                          tesseract-ocr  1.000000  0.996284     1.000000   \n",
       "4    Berkeley Vision and Learning Center  1.000000  1.000000     1.000000   \n",
       "7                              JuliaLang  1.000000  0.933726     0.996962   \n",
       "3                                   nndl  0.977181  0.841445     0.976751   \n",
       "8                 oxford-cs-deepnlp-2017  0.981938  0.875386     0.999861   \n",
       "5                Dive into Deep Learning  0.946423  0.860524     0.853678   \n",
       "12                     RARE Technologies  0.945063  0.906650     0.825768   \n",
       "13                        The Algorithms  0.918981  0.825827     0.843823   \n",
       "77                             Microsoft  0.538831  0.514682     0.551328   \n",
       "14                           Ray Project  0.989798  0.782264     0.809169   \n",
       "103                             Alphabet  0.502673  0.481165     0.510940   \n",
       "15                        Project Naptha  0.999871  0.634297     0.862023   \n",
       "16                             AMAI-GmbH  0.959827  0.550287     0.966304   \n",
       "17              Natural Language Toolkit  0.886855  0.755496     0.871262   \n",
       "23                               fast.ai  0.692927  0.758617     0.677027   \n",
       "18                                Apache  0.731105  0.723517     0.737013   \n",
       "19                                  Xitu  0.776325  0.697213     0.767020   \n",
       "9                                Horovod  0.926698  0.667445     0.730391   \n",
       "\n",
       "     PageRankNorm  BetweennessNorm  InDegreeNorm  CountNorm  Influence_Score  \n",
       "1        0.459746         0.017534      0.333333   0.000000         0.691949  \n",
       "2        0.148611         0.000000      0.194444   0.000000         0.629722  \n",
       "6        0.079459         0.000000      0.000000   0.000000         0.615149  \n",
       "4        0.005879         0.075424      0.138889   0.000000         0.601176  \n",
       "7        0.015721         0.000000      0.000000   0.000000         0.589282  \n",
       "3        0.123737         0.001908      0.416667   0.000000         0.583823  \n",
       "8        0.000000         0.000000      0.027778   0.000000         0.571437  \n",
       "5        0.147045         0.016902      0.361111   0.021277         0.565789  \n",
       "12       0.023582         0.000000      0.000000   0.000000         0.540213  \n",
       "13       0.023582         0.000417      0.013889   0.021277         0.526698  \n",
       "77       0.109896         0.014423      0.071685   0.893617         0.521671  \n",
       "14       0.011791         0.000000      0.000000   0.000000         0.518605  \n",
       "103      0.054587         0.011365      0.073045   1.000000         0.509873  \n",
       "15       0.037994         0.003340      0.027778   0.000000         0.506837  \n",
       "16       0.047164         0.000000      0.000000   0.000000         0.504717  \n",
       "17       0.000000         0.000000      0.000000   0.000000         0.502723  \n",
       "23       0.195970         0.005666      0.051587   0.127660         0.490440  \n",
       "18       0.173016         0.000000      0.129630   0.085106         0.489951  \n",
       "19       0.171402         0.000000      0.055556   0.021277         0.486648  \n",
       "9        0.107388         0.196215      0.222222   0.000000         0.486384  "
      ]
     },
     "execution_count": 86,
     "metadata": {},
     "output_type": "execute_result"
    }
   ],
   "source": [
    "# group by for owner summation\n",
    "\n",
    "df_owner_influence = (df_repo_ensemble_norm\n",
    "                     .groupby(['Owner'])\n",
    "                     .mean()\n",
    "                     .reset_index()\n",
    "                     .sort_values(by = 'Influence_Score', ascending = False))\n",
    "\n",
    "# add count\n",
    "df_owner_influence = pd.merge(df_owner_influence, df_unique_owner, on='Owner').drop(columns = ['Influence_Score'])\n",
    "\n",
    "# create ensemble for owner score\n",
    "df_owner_influence['Influence_Score'] = df_owner_influence[['StarNorm','ForkNorm','WatcherNorm','PageRankNorm',\n",
    "#                                                             'BetweennessNorm','InDegreeNorm',\n",
    "                                                            'CountNorm']].mean(axis=1)\n",
    "\n",
    "\n",
    "df_owner_influence = (df_owner_influence\n",
    "                     .sort_values(by = 'Influence_Score', ascending = False)\n",
    "                     .drop(columns = ['NodeID'])\n",
    "                     .head(20))\n",
    "df_owner_influence"
   ]
  },
  {
   "cell_type": "code",
   "execution_count": 87,
   "id": "664dbec5",
   "metadata": {
    "slideshow": {
     "slide_type": "subslide"
    }
   },
   "outputs": [
    {
     "data": {
      "application/vnd.plotly.v1+json": {
       "config": {
        "plotlyServerURL": "https://plot.ly"
       },
       "data": [
        {
         "alignmentgroup": "True",
         "hovertemplate": "Influence_Score=%{x}<br>Owner=%{y}<extra></extra>",
         "legendgroup": "",
         "marker": {
          "color": "#636efa",
          "pattern": {
           "shape": ""
          }
         },
         "name": "",
         "offsetgroup": "",
         "orientation": "h",
         "showlegend": false,
         "textposition": "auto",
         "type": "bar",
         "x": [
          0.4863844424824749,
          0.48664751020935837,
          0.4899513619088636,
          0.4904398124178552,
          0.5027225776161042,
          0.5047165182054838,
          0.5068369560919931,
          0.5098728740493057,
          0.5186045430817396,
          0.5216707064493484,
          0.5266979810716343,
          0.5402125883749125,
          0.5657892503644948,
          0.571437054650029,
          0.5838229379425948,
          0.5892818816811014,
          0.6011757802651994,
          0.6151485980212638,
          0.6297222676435839,
          0.6919492286127946
         ],
         "xaxis": "x",
         "y": [
          "Horovod",
          "Xitu",
          "Apache",
          "fast.ai",
          "Natural Language Toolkit",
          "AMAI-GmbH",
          "Project Naptha",
          "Alphabet",
          "Ray Project",
          "Microsoft",
          "The Algorithms",
          "RARE Technologies",
          "Dive into Deep Learning",
          "oxford-cs-deepnlp-2017",
          "nndl",
          "JuliaLang",
          "Berkeley Vision and Learning Center",
          "tesseract-ocr",
          "OpenCV",
          "scikit-learn"
         ],
         "yaxis": "y"
        }
       ],
       "layout": {
        "autosize": true,
        "barmode": "relative",
        "legend": {
         "tracegroupgap": 0
        },
        "template": {
         "data": {
          "bar": [
           {
            "error_x": {
             "color": "#f2f5fa"
            },
            "error_y": {
             "color": "#f2f5fa"
            },
            "marker": {
             "line": {
              "color": "rgb(17,17,17)",
              "width": 0.5
             },
             "pattern": {
              "fillmode": "overlay",
              "size": 10,
              "solidity": 0.2
             }
            },
            "type": "bar"
           }
          ],
          "barpolar": [
           {
            "marker": {
             "line": {
              "color": "rgb(17,17,17)",
              "width": 0.5
             },
             "pattern": {
              "fillmode": "overlay",
              "size": 10,
              "solidity": 0.2
             }
            },
            "type": "barpolar"
           }
          ],
          "carpet": [
           {
            "aaxis": {
             "endlinecolor": "#A2B1C6",
             "gridcolor": "#506784",
             "linecolor": "#506784",
             "minorgridcolor": "#506784",
             "startlinecolor": "#A2B1C6"
            },
            "baxis": {
             "endlinecolor": "#A2B1C6",
             "gridcolor": "#506784",
             "linecolor": "#506784",
             "minorgridcolor": "#506784",
             "startlinecolor": "#A2B1C6"
            },
            "type": "carpet"
           }
          ],
          "choropleth": [
           {
            "colorbar": {
             "outlinewidth": 0,
             "ticks": ""
            },
            "type": "choropleth"
           }
          ],
          "contour": [
           {
            "colorbar": {
             "outlinewidth": 0,
             "ticks": ""
            },
            "colorscale": [
             [
              0,
              "#0d0887"
             ],
             [
              0.1111111111111111,
              "#46039f"
             ],
             [
              0.2222222222222222,
              "#7201a8"
             ],
             [
              0.3333333333333333,
              "#9c179e"
             ],
             [
              0.4444444444444444,
              "#bd3786"
             ],
             [
              0.5555555555555556,
              "#d8576b"
             ],
             [
              0.6666666666666666,
              "#ed7953"
             ],
             [
              0.7777777777777778,
              "#fb9f3a"
             ],
             [
              0.8888888888888888,
              "#fdca26"
             ],
             [
              1,
              "#f0f921"
             ]
            ],
            "type": "contour"
           }
          ],
          "contourcarpet": [
           {
            "colorbar": {
             "outlinewidth": 0,
             "ticks": ""
            },
            "type": "contourcarpet"
           }
          ],
          "heatmap": [
           {
            "colorbar": {
             "outlinewidth": 0,
             "ticks": ""
            },
            "colorscale": [
             [
              0,
              "#0d0887"
             ],
             [
              0.1111111111111111,
              "#46039f"
             ],
             [
              0.2222222222222222,
              "#7201a8"
             ],
             [
              0.3333333333333333,
              "#9c179e"
             ],
             [
              0.4444444444444444,
              "#bd3786"
             ],
             [
              0.5555555555555556,
              "#d8576b"
             ],
             [
              0.6666666666666666,
              "#ed7953"
             ],
             [
              0.7777777777777778,
              "#fb9f3a"
             ],
             [
              0.8888888888888888,
              "#fdca26"
             ],
             [
              1,
              "#f0f921"
             ]
            ],
            "type": "heatmap"
           }
          ],
          "heatmapgl": [
           {
            "colorbar": {
             "outlinewidth": 0,
             "ticks": ""
            },
            "colorscale": [
             [
              0,
              "#0d0887"
             ],
             [
              0.1111111111111111,
              "#46039f"
             ],
             [
              0.2222222222222222,
              "#7201a8"
             ],
             [
              0.3333333333333333,
              "#9c179e"
             ],
             [
              0.4444444444444444,
              "#bd3786"
             ],
             [
              0.5555555555555556,
              "#d8576b"
             ],
             [
              0.6666666666666666,
              "#ed7953"
             ],
             [
              0.7777777777777778,
              "#fb9f3a"
             ],
             [
              0.8888888888888888,
              "#fdca26"
             ],
             [
              1,
              "#f0f921"
             ]
            ],
            "type": "heatmapgl"
           }
          ],
          "histogram": [
           {
            "marker": {
             "pattern": {
              "fillmode": "overlay",
              "size": 10,
              "solidity": 0.2
             }
            },
            "type": "histogram"
           }
          ],
          "histogram2d": [
           {
            "colorbar": {
             "outlinewidth": 0,
             "ticks": ""
            },
            "colorscale": [
             [
              0,
              "#0d0887"
             ],
             [
              0.1111111111111111,
              "#46039f"
             ],
             [
              0.2222222222222222,
              "#7201a8"
             ],
             [
              0.3333333333333333,
              "#9c179e"
             ],
             [
              0.4444444444444444,
              "#bd3786"
             ],
             [
              0.5555555555555556,
              "#d8576b"
             ],
             [
              0.6666666666666666,
              "#ed7953"
             ],
             [
              0.7777777777777778,
              "#fb9f3a"
             ],
             [
              0.8888888888888888,
              "#fdca26"
             ],
             [
              1,
              "#f0f921"
             ]
            ],
            "type": "histogram2d"
           }
          ],
          "histogram2dcontour": [
           {
            "colorbar": {
             "outlinewidth": 0,
             "ticks": ""
            },
            "colorscale": [
             [
              0,
              "#0d0887"
             ],
             [
              0.1111111111111111,
              "#46039f"
             ],
             [
              0.2222222222222222,
              "#7201a8"
             ],
             [
              0.3333333333333333,
              "#9c179e"
             ],
             [
              0.4444444444444444,
              "#bd3786"
             ],
             [
              0.5555555555555556,
              "#d8576b"
             ],
             [
              0.6666666666666666,
              "#ed7953"
             ],
             [
              0.7777777777777778,
              "#fb9f3a"
             ],
             [
              0.8888888888888888,
              "#fdca26"
             ],
             [
              1,
              "#f0f921"
             ]
            ],
            "type": "histogram2dcontour"
           }
          ],
          "mesh3d": [
           {
            "colorbar": {
             "outlinewidth": 0,
             "ticks": ""
            },
            "type": "mesh3d"
           }
          ],
          "parcoords": [
           {
            "line": {
             "colorbar": {
              "outlinewidth": 0,
              "ticks": ""
             }
            },
            "type": "parcoords"
           }
          ],
          "pie": [
           {
            "automargin": true,
            "type": "pie"
           }
          ],
          "scatter": [
           {
            "marker": {
             "line": {
              "color": "#283442"
             }
            },
            "type": "scatter"
           }
          ],
          "scatter3d": [
           {
            "line": {
             "colorbar": {
              "outlinewidth": 0,
              "ticks": ""
             }
            },
            "marker": {
             "colorbar": {
              "outlinewidth": 0,
              "ticks": ""
             }
            },
            "type": "scatter3d"
           }
          ],
          "scattercarpet": [
           {
            "marker": {
             "colorbar": {
              "outlinewidth": 0,
              "ticks": ""
             }
            },
            "type": "scattercarpet"
           }
          ],
          "scattergeo": [
           {
            "marker": {
             "colorbar": {
              "outlinewidth": 0,
              "ticks": ""
             }
            },
            "type": "scattergeo"
           }
          ],
          "scattergl": [
           {
            "marker": {
             "line": {
              "color": "#283442"
             }
            },
            "type": "scattergl"
           }
          ],
          "scattermapbox": [
           {
            "marker": {
             "colorbar": {
              "outlinewidth": 0,
              "ticks": ""
             }
            },
            "type": "scattermapbox"
           }
          ],
          "scatterpolar": [
           {
            "marker": {
             "colorbar": {
              "outlinewidth": 0,
              "ticks": ""
             }
            },
            "type": "scatterpolar"
           }
          ],
          "scatterpolargl": [
           {
            "marker": {
             "colorbar": {
              "outlinewidth": 0,
              "ticks": ""
             }
            },
            "type": "scatterpolargl"
           }
          ],
          "scatterternary": [
           {
            "marker": {
             "colorbar": {
              "outlinewidth": 0,
              "ticks": ""
             }
            },
            "type": "scatterternary"
           }
          ],
          "surface": [
           {
            "colorbar": {
             "outlinewidth": 0,
             "ticks": ""
            },
            "colorscale": [
             [
              0,
              "#0d0887"
             ],
             [
              0.1111111111111111,
              "#46039f"
             ],
             [
              0.2222222222222222,
              "#7201a8"
             ],
             [
              0.3333333333333333,
              "#9c179e"
             ],
             [
              0.4444444444444444,
              "#bd3786"
             ],
             [
              0.5555555555555556,
              "#d8576b"
             ],
             [
              0.6666666666666666,
              "#ed7953"
             ],
             [
              0.7777777777777778,
              "#fb9f3a"
             ],
             [
              0.8888888888888888,
              "#fdca26"
             ],
             [
              1,
              "#f0f921"
             ]
            ],
            "type": "surface"
           }
          ],
          "table": [
           {
            "cells": {
             "fill": {
              "color": "#506784"
             },
             "line": {
              "color": "rgb(17,17,17)"
             }
            },
            "header": {
             "fill": {
              "color": "#2a3f5f"
             },
             "line": {
              "color": "rgb(17,17,17)"
             }
            },
            "type": "table"
           }
          ]
         },
         "layout": {
          "annotationdefaults": {
           "arrowcolor": "#f2f5fa",
           "arrowhead": 0,
           "arrowwidth": 1
          },
          "autotypenumbers": "strict",
          "coloraxis": {
           "colorbar": {
            "outlinewidth": 0,
            "ticks": ""
           }
          },
          "colorscale": {
           "diverging": [
            [
             0,
             "#8e0152"
            ],
            [
             0.1,
             "#c51b7d"
            ],
            [
             0.2,
             "#de77ae"
            ],
            [
             0.3,
             "#f1b6da"
            ],
            [
             0.4,
             "#fde0ef"
            ],
            [
             0.5,
             "#f7f7f7"
            ],
            [
             0.6,
             "#e6f5d0"
            ],
            [
             0.7,
             "#b8e186"
            ],
            [
             0.8,
             "#7fbc41"
            ],
            [
             0.9,
             "#4d9221"
            ],
            [
             1,
             "#276419"
            ]
           ],
           "sequential": [
            [
             0,
             "#0d0887"
            ],
            [
             0.1111111111111111,
             "#46039f"
            ],
            [
             0.2222222222222222,
             "#7201a8"
            ],
            [
             0.3333333333333333,
             "#9c179e"
            ],
            [
             0.4444444444444444,
             "#bd3786"
            ],
            [
             0.5555555555555556,
             "#d8576b"
            ],
            [
             0.6666666666666666,
             "#ed7953"
            ],
            [
             0.7777777777777778,
             "#fb9f3a"
            ],
            [
             0.8888888888888888,
             "#fdca26"
            ],
            [
             1,
             "#f0f921"
            ]
           ],
           "sequentialminus": [
            [
             0,
             "#0d0887"
            ],
            [
             0.1111111111111111,
             "#46039f"
            ],
            [
             0.2222222222222222,
             "#7201a8"
            ],
            [
             0.3333333333333333,
             "#9c179e"
            ],
            [
             0.4444444444444444,
             "#bd3786"
            ],
            [
             0.5555555555555556,
             "#d8576b"
            ],
            [
             0.6666666666666666,
             "#ed7953"
            ],
            [
             0.7777777777777778,
             "#fb9f3a"
            ],
            [
             0.8888888888888888,
             "#fdca26"
            ],
            [
             1,
             "#f0f921"
            ]
           ]
          },
          "colorway": [
           "#636efa",
           "#EF553B",
           "#00cc96",
           "#ab63fa",
           "#FFA15A",
           "#19d3f3",
           "#FF6692",
           "#B6E880",
           "#FF97FF",
           "#FECB52"
          ],
          "font": {
           "color": "#f2f5fa"
          },
          "geo": {
           "bgcolor": "rgb(17,17,17)",
           "lakecolor": "rgb(17,17,17)",
           "landcolor": "rgb(17,17,17)",
           "showlakes": true,
           "showland": true,
           "subunitcolor": "#506784"
          },
          "hoverlabel": {
           "align": "left"
          },
          "hovermode": "closest",
          "mapbox": {
           "style": "dark"
          },
          "paper_bgcolor": "rgb(17,17,17)",
          "plot_bgcolor": "rgb(17,17,17)",
          "polar": {
           "angularaxis": {
            "gridcolor": "#506784",
            "linecolor": "#506784",
            "ticks": ""
           },
           "bgcolor": "rgb(17,17,17)",
           "radialaxis": {
            "gridcolor": "#506784",
            "linecolor": "#506784",
            "ticks": ""
           }
          },
          "scene": {
           "xaxis": {
            "backgroundcolor": "rgb(17,17,17)",
            "gridcolor": "#506784",
            "gridwidth": 2,
            "linecolor": "#506784",
            "showbackground": true,
            "ticks": "",
            "zerolinecolor": "#C8D4E3"
           },
           "yaxis": {
            "backgroundcolor": "rgb(17,17,17)",
            "gridcolor": "#506784",
            "gridwidth": 2,
            "linecolor": "#506784",
            "showbackground": true,
            "ticks": "",
            "zerolinecolor": "#C8D4E3"
           },
           "zaxis": {
            "backgroundcolor": "rgb(17,17,17)",
            "gridcolor": "#506784",
            "gridwidth": 2,
            "linecolor": "#506784",
            "showbackground": true,
            "ticks": "",
            "zerolinecolor": "#C8D4E3"
           }
          },
          "shapedefaults": {
           "line": {
            "color": "#f2f5fa"
           }
          },
          "sliderdefaults": {
           "bgcolor": "#C8D4E3",
           "bordercolor": "rgb(17,17,17)",
           "borderwidth": 1,
           "tickwidth": 0
          },
          "ternary": {
           "aaxis": {
            "gridcolor": "#506784",
            "linecolor": "#506784",
            "ticks": ""
           },
           "baxis": {
            "gridcolor": "#506784",
            "linecolor": "#506784",
            "ticks": ""
           },
           "bgcolor": "rgb(17,17,17)",
           "caxis": {
            "gridcolor": "#506784",
            "linecolor": "#506784",
            "ticks": ""
           }
          },
          "title": {
           "x": 0.05
          },
          "updatemenudefaults": {
           "bgcolor": "#506784",
           "borderwidth": 0
          },
          "xaxis": {
           "automargin": true,
           "gridcolor": "#283442",
           "linecolor": "#506784",
           "ticks": "",
           "title": {
            "standoff": 15
           },
           "zerolinecolor": "#283442",
           "zerolinewidth": 2
          },
          "yaxis": {
           "automargin": true,
           "gridcolor": "#283442",
           "linecolor": "#506784",
           "ticks": "",
           "title": {
            "standoff": 15
           },
           "zerolinecolor": "#283442",
           "zerolinewidth": 2
          }
         }
        },
        "title": {
         "text": "Most Influencial Owner in Github : ML/DL/AI"
        },
        "xaxis": {
         "anchor": "y",
         "autorange": true,
         "domain": [
          0,
          1
         ],
         "range": [
          0,
          0.7283676090660995
         ],
         "title": {
          "text": "Influence Score (0 to 1)"
         },
         "type": "linear"
        },
        "yaxis": {
         "anchor": "x",
         "autorange": true,
         "domain": [
          0,
          1
         ],
         "range": [
          -0.5,
          19.5
         ],
         "title": {
          "text": "Owner/Company Name"
         },
         "type": "category"
        }
       }
      },
      "image/png": "[encoded data removed]",
      "text/html": [
       "<div>                            <div id=\"a3b4aeb8-d3df-460e-a5e1-166b2eba4e35\" class=\"plotly-graph-div\" style=\"height:600px; width:100%;\"></div>            <script type=\"text/javascript\">                require([\"plotly\"], function(Plotly) {                    window.PLOTLYENV=window.PLOTLYENV || {};                                    if (document.getElementById(\"a3b4aeb8-d3df-460e-a5e1-166b2eba4e35\")) {                    Plotly.newPlot(                        \"a3b4aeb8-d3df-460e-a5e1-166b2eba4e35\",                        [{\"alignmentgroup\":\"True\",\"hovertemplate\":\"Influence_Score=%{x}<br>Owner=%{y}<extra></extra>\",\"legendgroup\":\"\",\"marker\":{\"color\":\"#636efa\",\"pattern\":{\"shape\":\"\"}},\"name\":\"\",\"offsetgroup\":\"\",\"orientation\":\"h\",\"showlegend\":false,\"textposition\":\"auto\",\"type\":\"bar\",\"x\":[0.4863844424824749,0.48664751020935837,0.4899513619088636,0.4904398124178552,0.5027225776161042,0.5047165182054838,0.5068369560919931,0.5098728740493057,0.5186045430817396,0.5216707064493484,0.5266979810716343,0.5402125883749125,0.5657892503644948,0.571437054650029,0.5838229379425948,0.5892818816811014,0.6011757802651994,0.6151485980212638,0.6297222676435839,0.6919492286127946],\"xaxis\":\"x\",\"y\":[\"Horovod\",\"Xitu\",\"Apache\",\"fast.ai\",\"Natural Language Toolkit\",\"AMAI-GmbH\",\"Project Naptha\",\"Alphabet\",\"Ray Project\",\"Microsoft\",\"The Algorithms\",\"RARE Technologies\",\"Dive into Deep Learning\",\"oxford-cs-deepnlp-2017\",\"nndl\",\"JuliaLang\",\"Berkeley Vision and Learning Center\",\"tesseract-ocr\",\"OpenCV\",\"scikit-learn\"],\"yaxis\":\"y\"}],                        {\"barmode\":\"relative\",\"height\":600,\"legend\":{\"tracegroupgap\":0},\"template\":{\"data\":{\"bar\":[{\"error_x\":{\"color\":\"#f2f5fa\"},\"error_y\":{\"color\":\"#f2f5fa\"},\"marker\":{\"line\":{\"color\":\"rgb(17,17,17)\",\"width\":0.5},\"pattern\":{\"fillmode\":\"overlay\",\"size\":10,\"solidity\":0.2}},\"type\":\"bar\"}],\"barpolar\":[{\"marker\":{\"line\":{\"color\":\"rgb(17,17,17)\",\"width\":0.5},\"pattern\":{\"fillmode\":\"overlay\",\"size\":10,\"solidity\":0.2}},\"type\":\"barpolar\"}],\"carpet\":[{\"aaxis\":{\"endlinecolor\":\"#A2B1C6\",\"gridcolor\":\"#506784\",\"linecolor\":\"#506784\",\"minorgridcolor\":\"#506784\",\"startlinecolor\":\"#A2B1C6\"},\"baxis\":{\"endlinecolor\":\"#A2B1C6\",\"gridcolor\":\"#506784\",\"linecolor\":\"#506784\",\"minorgridcolor\":\"#506784\",\"startlinecolor\":\"#A2B1C6\"},\"type\":\"carpet\"}],\"choropleth\":[{\"colorbar\":{\"outlinewidth\":0,\"ticks\":\"\"},\"type\":\"choropleth\"}],\"contour\":[{\"colorbar\":{\"outlinewidth\":0,\"ticks\":\"\"},\"colorscale\":[[0.0,\"#0d0887\"],[0.1111111111111111,\"#46039f\"],[0.2222222222222222,\"#7201a8\"],[0.3333333333333333,\"#9c179e\"],[0.4444444444444444,\"#bd3786\"],[0.5555555555555556,\"#d8576b\"],[0.6666666666666666,\"#ed7953\"],[0.7777777777777778,\"#fb9f3a\"],[0.8888888888888888,\"#fdca26\"],[1.0,\"#f0f921\"]],\"type\":\"contour\"}],\"contourcarpet\":[{\"colorbar\":{\"outlinewidth\":0,\"ticks\":\"\"},\"type\":\"contourcarpet\"}],\"heatmap\":[{\"colorbar\":{\"outlinewidth\":0,\"ticks\":\"\"},\"colorscale\":[[0.0,\"#0d0887\"],[0.1111111111111111,\"#46039f\"],[0.2222222222222222,\"#7201a8\"],[0.3333333333333333,\"#9c179e\"],[0.4444444444444444,\"#bd3786\"],[0.5555555555555556,\"#d8576b\"],[0.6666666666666666,\"#ed7953\"],[0.7777777777777778,\"#fb9f3a\"],[0.8888888888888888,\"#fdca26\"],[1.0,\"#f0f921\"]],\"type\":\"heatmap\"}],\"heatmapgl\":[{\"colorbar\":{\"outlinewidth\":0,\"ticks\":\"\"},\"colorscale\":[[0.0,\"#0d0887\"],[0.1111111111111111,\"#46039f\"],[0.2222222222222222,\"#7201a8\"],[0.3333333333333333,\"#9c179e\"],[0.4444444444444444,\"#bd3786\"],[0.5555555555555556,\"#d8576b\"],[0.6666666666666666,\"#ed7953\"],[0.7777777777777778,\"#fb9f3a\"],[0.8888888888888888,\"#fdca26\"],[1.0,\"#f0f921\"]],\"type\":\"heatmapgl\"}],\"histogram\":[{\"marker\":{\"pattern\":{\"fillmode\":\"overlay\",\"size\":10,\"solidity\":0.2}},\"type\":\"histogram\"}],\"histogram2d\":[{\"colorbar\":{\"outlinewidth\":0,\"ticks\":\"\"},\"colorscale\":[[0.0,\"#0d0887\"],[0.1111111111111111,\"#46039f\"],[0.2222222222222222,\"#7201a8\"],[0.3333333333333333,\"#9c179e\"],[0.4444444444444444,\"#bd3786\"],[0.5555555555555556,\"#d8576b\"],[0.6666666666666666,\"#ed7953\"],[0.7777777777777778,\"#fb9f3a\"],[0.8888888888888888,\"#fdca26\"],[1.0,\"#f0f921\"]],\"type\":\"histogram2d\"}],\"histogram2dcontour\":[{\"colorbar\":{\"outlinewidth\":0,\"ticks\":\"\"},\"colorscale\":[[0.0,\"#0d0887\"],[0.1111111111111111,\"#46039f\"],[0.2222222222222222,\"#7201a8\"],[0.3333333333333333,\"#9c179e\"],[0.4444444444444444,\"#bd3786\"],[0.5555555555555556,\"#d8576b\"],[0.6666666666666666,\"#ed7953\"],[0.7777777777777778,\"#fb9f3a\"],[0.8888888888888888,\"#fdca26\"],[1.0,\"#f0f921\"]],\"type\":\"histogram2dcontour\"}],\"mesh3d\":[{\"colorbar\":{\"outlinewidth\":0,\"ticks\":\"\"},\"type\":\"mesh3d\"}],\"parcoords\":[{\"line\":{\"colorbar\":{\"outlinewidth\":0,\"ticks\":\"\"}},\"type\":\"parcoords\"}],\"pie\":[{\"automargin\":true,\"type\":\"pie\"}],\"scatter\":[{\"marker\":{\"line\":{\"color\":\"#283442\"}},\"type\":\"scatter\"}],\"scatter3d\":[{\"line\":{\"colorbar\":{\"outlinewidth\":0,\"ticks\":\"\"}},\"marker\":{\"colorbar\":{\"outlinewidth\":0,\"ticks\":\"\"}},\"type\":\"scatter3d\"}],\"scattercarpet\":[{\"marker\":{\"colorbar\":{\"outlinewidth\":0,\"ticks\":\"\"}},\"type\":\"scattercarpet\"}],\"scattergeo\":[{\"marker\":{\"colorbar\":{\"outlinewidth\":0,\"ticks\":\"\"}},\"type\":\"scattergeo\"}],\"scattergl\":[{\"marker\":{\"line\":{\"color\":\"#283442\"}},\"type\":\"scattergl\"}],\"scattermapbox\":[{\"marker\":{\"colorbar\":{\"outlinewidth\":0,\"ticks\":\"\"}},\"type\":\"scattermapbox\"}],\"scatterpolar\":[{\"marker\":{\"colorbar\":{\"outlinewidth\":0,\"ticks\":\"\"}},\"type\":\"scatterpolar\"}],\"scatterpolargl\":[{\"marker\":{\"colorbar\":{\"outlinewidth\":0,\"ticks\":\"\"}},\"type\":\"scatterpolargl\"}],\"scatterternary\":[{\"marker\":{\"colorbar\":{\"outlinewidth\":0,\"ticks\":\"\"}},\"type\":\"scatterternary\"}],\"surface\":[{\"colorbar\":{\"outlinewidth\":0,\"ticks\":\"\"},\"colorscale\":[[0.0,\"#0d0887\"],[0.1111111111111111,\"#46039f\"],[0.2222222222222222,\"#7201a8\"],[0.3333333333333333,\"#9c179e\"],[0.4444444444444444,\"#bd3786\"],[0.5555555555555556,\"#d8576b\"],[0.6666666666666666,\"#ed7953\"],[0.7777777777777778,\"#fb9f3a\"],[0.8888888888888888,\"#fdca26\"],[1.0,\"#f0f921\"]],\"type\":\"surface\"}],\"table\":[{\"cells\":{\"fill\":{\"color\":\"#506784\"},\"line\":{\"color\":\"rgb(17,17,17)\"}},\"header\":{\"fill\":{\"color\":\"#2a3f5f\"},\"line\":{\"color\":\"rgb(17,17,17)\"}},\"type\":\"table\"}]},\"layout\":{\"annotationdefaults\":{\"arrowcolor\":\"#f2f5fa\",\"arrowhead\":0,\"arrowwidth\":1},\"autotypenumbers\":\"strict\",\"coloraxis\":{\"colorbar\":{\"outlinewidth\":0,\"ticks\":\"\"}},\"colorscale\":{\"diverging\":[[0,\"#8e0152\"],[0.1,\"#c51b7d\"],[0.2,\"#de77ae\"],[0.3,\"#f1b6da\"],[0.4,\"#fde0ef\"],[0.5,\"#f7f7f7\"],[0.6,\"#e6f5d0\"],[0.7,\"#b8e186\"],[0.8,\"#7fbc41\"],[0.9,\"#4d9221\"],[1,\"#276419\"]],\"sequential\":[[0.0,\"#0d0887\"],[0.1111111111111111,\"#46039f\"],[0.2222222222222222,\"#7201a8\"],[0.3333333333333333,\"#9c179e\"],[0.4444444444444444,\"#bd3786\"],[0.5555555555555556,\"#d8576b\"],[0.6666666666666666,\"#ed7953\"],[0.7777777777777778,\"#fb9f3a\"],[0.8888888888888888,\"#fdca26\"],[1.0,\"#f0f921\"]],\"sequentialminus\":[[0.0,\"#0d0887\"],[0.1111111111111111,\"#46039f\"],[0.2222222222222222,\"#7201a8\"],[0.3333333333333333,\"#9c179e\"],[0.4444444444444444,\"#bd3786\"],[0.5555555555555556,\"#d8576b\"],[0.6666666666666666,\"#ed7953\"],[0.7777777777777778,\"#fb9f3a\"],[0.8888888888888888,\"#fdca26\"],[1.0,\"#f0f921\"]]},\"colorway\":[\"#636efa\",\"#EF553B\",\"#00cc96\",\"#ab63fa\",\"#FFA15A\",\"#19d3f3\",\"#FF6692\",\"#B6E880\",\"#FF97FF\",\"#FECB52\"],\"font\":{\"color\":\"#f2f5fa\"},\"geo\":{\"bgcolor\":\"rgb(17,17,17)\",\"lakecolor\":\"rgb(17,17,17)\",\"landcolor\":\"rgb(17,17,17)\",\"showlakes\":true,\"showland\":true,\"subunitcolor\":\"#506784\"},\"hoverlabel\":{\"align\":\"left\"},\"hovermode\":\"closest\",\"mapbox\":{\"style\":\"dark\"},\"paper_bgcolor\":\"rgb(17,17,17)\",\"plot_bgcolor\":\"rgb(17,17,17)\",\"polar\":{\"angularaxis\":{\"gridcolor\":\"#506784\",\"linecolor\":\"#506784\",\"ticks\":\"\"},\"bgcolor\":\"rgb(17,17,17)\",\"radialaxis\":{\"gridcolor\":\"#506784\",\"linecolor\":\"#506784\",\"ticks\":\"\"}},\"scene\":{\"xaxis\":{\"backgroundcolor\":\"rgb(17,17,17)\",\"gridcolor\":\"#506784\",\"gridwidth\":2,\"linecolor\":\"#506784\",\"showbackground\":true,\"ticks\":\"\",\"zerolinecolor\":\"#C8D4E3\"},\"yaxis\":{\"backgroundcolor\":\"rgb(17,17,17)\",\"gridcolor\":\"#506784\",\"gridwidth\":2,\"linecolor\":\"#506784\",\"showbackground\":true,\"ticks\":\"\",\"zerolinecolor\":\"#C8D4E3\"},\"zaxis\":{\"backgroundcolor\":\"rgb(17,17,17)\",\"gridcolor\":\"#506784\",\"gridwidth\":2,\"linecolor\":\"#506784\",\"showbackground\":true,\"ticks\":\"\",\"zerolinecolor\":\"#C8D4E3\"}},\"shapedefaults\":{\"line\":{\"color\":\"#f2f5fa\"}},\"sliderdefaults\":{\"bgcolor\":\"#C8D4E3\",\"bordercolor\":\"rgb(17,17,17)\",\"borderwidth\":1,\"tickwidth\":0},\"ternary\":{\"aaxis\":{\"gridcolor\":\"#506784\",\"linecolor\":\"#506784\",\"ticks\":\"\"},\"baxis\":{\"gridcolor\":\"#506784\",\"linecolor\":\"#506784\",\"ticks\":\"\"},\"bgcolor\":\"rgb(17,17,17)\",\"caxis\":{\"gridcolor\":\"#506784\",\"linecolor\":\"#506784\",\"ticks\":\"\"}},\"title\":{\"x\":0.05},\"updatemenudefaults\":{\"bgcolor\":\"#506784\",\"borderwidth\":0},\"xaxis\":{\"automargin\":true,\"gridcolor\":\"#283442\",\"linecolor\":\"#506784\",\"ticks\":\"\",\"title\":{\"standoff\":15},\"zerolinecolor\":\"#283442\",\"zerolinewidth\":2},\"yaxis\":{\"automargin\":true,\"gridcolor\":\"#283442\",\"linecolor\":\"#506784\",\"ticks\":\"\",\"title\":{\"standoff\":15},\"zerolinecolor\":\"#283442\",\"zerolinewidth\":2}}},\"title\":{\"text\":\"Most Influencial Owner in Github : ML/DL/AI\"},\"xaxis\":{\"anchor\":\"y\",\"domain\":[0.0,1.0],\"title\":{\"text\":\"Influence Score (0 to 1)\"}},\"yaxis\":{\"anchor\":\"x\",\"domain\":[0.0,1.0],\"title\":{\"text\":\"Owner/Company Name\"}}},                        {\"responsive\": true}                    ).then(function(){\n",
       "                            \n",
       "var gd = document.getElementById('a3b4aeb8-d3df-460e-a5e1-166b2eba4e35');\n",
       "var x = new MutationObserver(function (mutations, observer) {{\n",
       "        var display = window.getComputedStyle(gd).display;\n",
       "        if (!display || display === 'none') {{\n",
       "            console.log([gd, 'removed!']);\n",
       "            Plotly.purge(gd);\n",
       "            observer.disconnect();\n",
       "        }}\n",
       "}});\n",
       "\n",
       "// Listen for the removal of the full notebook cells\n",
       "var notebookContainer = gd.closest('#notebook-container');\n",
       "if (notebookContainer) {{\n",
       "    x.observe(notebookContainer, {childList: true});\n",
       "}}\n",
       "\n",
       "// Listen for the clearing of the current output cell\n",
       "var outputEl = gd.closest('.output');\n",
       "if (outputEl) {{\n",
       "    x.observe(outputEl, {childList: true});\n",
       "}}\n",
       "\n",
       "                        })                };                });            </script>        </div>"
      ]
     },
     "metadata": {},
     "output_type": "display_data"
    }
   ],
   "source": [
    "# vertical bar chart for top 20 owner\n",
    "fig = px.bar(df_owner_influence.sort_values(by = 'Influence_Score', ascending = True),\n",
    "            x='Influence_Score',\n",
    "            y='Owner',\n",
    "            orientation='h',\n",
    "            title='Most Influencial Owner in Github : ML/DL/AI',\n",
    "            height = 600,\n",
    "            template = 'plotly_dark')\n",
    "fig.update_yaxes(title = 'Owner/Company Name')\n",
    "fig.update_xaxes(title = 'Influence Score (0 to 1)')\n",
    "fig.show()"
   ]
  },
  {
   "cell_type": "code",
   "execution_count": null,
   "id": "4ba3b58c",
   "metadata": {},
   "outputs": [],
   "source": []
  }
 ],
 "metadata": {
  "kernelspec": {
   "display_name": "Python 3 (ipykernel)",
   "language": "python",
   "name": "python3"
  },
  "language_info": {
   "codemirror_mode": {
    "name": "ipython",
    "version": 3
   },
   "file_extension": ".py",
   "mimetype": "text/x-python",
   "name": "python",
   "nbconvert_exporter": "python",
   "pygments_lexer": "ipython3",
   "version": "3.9.7"
  }
 },
 "nbformat": 4,
 "nbformat_minor": 5
}
