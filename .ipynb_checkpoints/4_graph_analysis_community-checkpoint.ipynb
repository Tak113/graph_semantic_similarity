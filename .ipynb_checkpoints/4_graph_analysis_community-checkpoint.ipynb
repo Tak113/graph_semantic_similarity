{
 "cells": [
  {
   "cell_type": "markdown",
   "id": "01564858",
   "metadata": {},
   "source": [
    "## Connection Settings"
   ]
  },
  {
   "cell_type": "markdown",
   "id": "6a763a70",
   "metadata": {},
   "source": [
    "## Community Detection"
   ]
  },
  {
   "cell_type": "code",
   "execution_count": null,
   "id": "f151c77d",
   "metadata": {},
   "outputs": [],
   "source": [
    "# community detection write\n",
    "query_community_write = '''\n",
    "    CALL gds.louvain.write('mlgitGraph', {\n",
    "        writeProperty: 'community'\n",
    "        //relationshipWeightProperty: 'weight'\n",
    "    })\n",
    "    YIELD communityCount, modularity, modularities\n",
    "'''\n",
    "\n",
    "con.query(query_community_write, db = 'mlgit')"
   ]
  }
 ],
 "metadata": {
  "kernelspec": {
   "display_name": "Python 3 (ipykernel)",
   "language": "python",
   "name": "python3"
  },
  "language_info": {
   "codemirror_mode": {
    "name": "ipython",
    "version": 3
   },
   "file_extension": ".py",
   "mimetype": "text/x-python",
   "name": "python",
   "nbconvert_exporter": "python",
   "pygments_lexer": "ipython3",
   "version": "3.9.7"
  }
 },
 "nbformat": 4,
 "nbformat_minor": 5
}
